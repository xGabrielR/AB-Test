{
 "cells": [
  {
   "cell_type": "code",
   "execution_count": 1,
   "metadata": {},
   "outputs": [],
   "source": [
    "import pandas as pd\n",
    "import numpy  as np\n",
    "\n",
    "from scipy import stats\n",
    "from statsmodels.stats import power\n",
    "from statsmodels.stats.gof import chisquare_effectsize\n",
    "from statsmodels.sandbox.stats.multicomp import multipletests\n",
    "\n",
    "from itertools import combinations"
   ]
  },
  {
   "cell_type": "markdown",
   "metadata": {},
   "source": [
    "#### 0.1. Create Dataframe form GA"
   ]
  },
  {
   "cell_type": "code",
   "execution_count": 3,
   "metadata": {},
   "outputs": [
    {
     "data": {
      "text/html": [
       "<div>\n",
       "<style scoped>\n",
       "    .dataframe tbody tr th:only-of-type {\n",
       "        vertical-align: middle;\n",
       "    }\n",
       "\n",
       "    .dataframe tbody tr th {\n",
       "        vertical-align: top;\n",
       "    }\n",
       "\n",
       "    .dataframe thead th {\n",
       "        text-align: right;\n",
       "    }\n",
       "</style>\n",
       "<table border=\"1\" class=\"dataframe\">\n",
       "  <thead>\n",
       "    <tr style=\"text-align: right;\">\n",
       "      <th></th>\n",
       "      <th>variant</th>\n",
       "      <th>visits</th>\n",
       "      <th>all_clicks</th>\n",
       "      <th>link_clicks</th>\n",
       "    </tr>\n",
       "  </thead>\n",
       "  <tbody>\n",
       "    <tr>\n",
       "      <th>0</th>\n",
       "      <td>interact</td>\n",
       "      <td>10283</td>\n",
       "      <td>3714</td>\n",
       "      <td>42</td>\n",
       "    </tr>\n",
       "    <tr>\n",
       "      <th>1</th>\n",
       "      <td>connect</td>\n",
       "      <td>2742</td>\n",
       "      <td>1587</td>\n",
       "      <td>53</td>\n",
       "    </tr>\n",
       "    <tr>\n",
       "      <th>2</th>\n",
       "      <td>learn</td>\n",
       "      <td>2747</td>\n",
       "      <td>1652</td>\n",
       "      <td>21</td>\n",
       "    </tr>\n",
       "    <tr>\n",
       "      <th>3</th>\n",
       "      <td>help</td>\n",
       "      <td>3180</td>\n",
       "      <td>1717</td>\n",
       "      <td>38</td>\n",
       "    </tr>\n",
       "    <tr>\n",
       "      <th>4</th>\n",
       "      <td>services</td>\n",
       "      <td>2064</td>\n",
       "      <td>1384</td>\n",
       "      <td>45</td>\n",
       "    </tr>\n",
       "  </tbody>\n",
       "</table>\n",
       "</div>"
      ],
      "text/plain": [
       "    variant  visits  all_clicks  link_clicks\n",
       "0  interact   10283        3714           42\n",
       "1   connect    2742        1587           53\n",
       "2     learn    2747        1652           21\n",
       "3      help    3180        1717           38\n",
       "4  services    2064        1384           45"
      ]
     },
     "execution_count": 3,
     "metadata": {},
     "output_type": "execute_result"
    }
   ],
   "source": [
    "dict_ga = {\n",
    "    'variant': ['interact', 'connect', 'learn', 'help', 'services'],\n",
    "    'visits': [10283, 2742, 2747, 3180, 2064],\n",
    "    'all_clicks': [3714, 1587, 1652, 1717, 1384],\n",
    "    'link_clicks': [42, 53, 21, 38, 45]\n",
    "}\n",
    "\n",
    "df = pd.DataFrame(dict_ga)\n",
    "df"
   ]
  },
  {
   "cell_type": "markdown",
   "metadata": {},
   "source": [
    "## 1.0. Experiment Design"
   ]
  },
  {
   "cell_type": "markdown",
   "metadata": {},
   "source": [
    "### 1.1. Hypothesis Formulation"
   ]
  },
  {
   "cell_type": "markdown",
   "metadata": {},
   "source": [
    "**Ho.**: Do not have variations on variants.\n",
    "\n",
    "**Hi.**: Exists a difference on variation of variants"
   ]
  },
  {
   "cell_type": "markdown",
   "metadata": {},
   "source": [
    "### 1.2. Experiment Metric"
   ]
  },
  {
   "cell_type": "markdown",
   "metadata": {},
   "source": [
    "What Metric? CTR? (Total clicks on link per Number of Visits OR Total clicks on link per all clicks on page...)"
   ]
  },
  {
   "cell_type": "code",
   "execution_count": 4,
   "metadata": {},
   "outputs": [
    {
     "data": {
      "text/html": [
       "<div>\n",
       "<style scoped>\n",
       "    .dataframe tbody tr th:only-of-type {\n",
       "        vertical-align: middle;\n",
       "    }\n",
       "\n",
       "    .dataframe tbody tr th {\n",
       "        vertical-align: top;\n",
       "    }\n",
       "\n",
       "    .dataframe thead th {\n",
       "        text-align: right;\n",
       "    }\n",
       "</style>\n",
       "<table border=\"1\" class=\"dataframe\">\n",
       "  <thead>\n",
       "    <tr style=\"text-align: right;\">\n",
       "      <th></th>\n",
       "      <th>variant</th>\n",
       "      <th>visits</th>\n",
       "      <th>all_clicks</th>\n",
       "      <th>link_clicks</th>\n",
       "      <th>conversion</th>\n",
       "    </tr>\n",
       "  </thead>\n",
       "  <tbody>\n",
       "    <tr>\n",
       "      <th>0</th>\n",
       "      <td>interact</td>\n",
       "      <td>10283</td>\n",
       "      <td>3714</td>\n",
       "      <td>42</td>\n",
       "      <td>0.211055</td>\n",
       "    </tr>\n",
       "    <tr>\n",
       "      <th>1</th>\n",
       "      <td>connect</td>\n",
       "      <td>2742</td>\n",
       "      <td>1587</td>\n",
       "      <td>53</td>\n",
       "      <td>0.266332</td>\n",
       "    </tr>\n",
       "    <tr>\n",
       "      <th>2</th>\n",
       "      <td>learn</td>\n",
       "      <td>2747</td>\n",
       "      <td>1652</td>\n",
       "      <td>21</td>\n",
       "      <td>0.105528</td>\n",
       "    </tr>\n",
       "    <tr>\n",
       "      <th>3</th>\n",
       "      <td>help</td>\n",
       "      <td>3180</td>\n",
       "      <td>1717</td>\n",
       "      <td>38</td>\n",
       "      <td>0.190955</td>\n",
       "    </tr>\n",
       "    <tr>\n",
       "      <th>4</th>\n",
       "      <td>services</td>\n",
       "      <td>2064</td>\n",
       "      <td>1384</td>\n",
       "      <td>45</td>\n",
       "      <td>0.226131</td>\n",
       "    </tr>\n",
       "  </tbody>\n",
       "</table>\n",
       "</div>"
      ],
      "text/plain": [
       "    variant  visits  all_clicks  link_clicks  conversion\n",
       "0  interact   10283        3714           42    0.211055\n",
       "1   connect    2742        1587           53    0.266332\n",
       "2     learn    2747        1652           21    0.105528\n",
       "3      help    3180        1717           38    0.190955\n",
       "4  services    2064        1384           45    0.226131"
      ]
     },
     "execution_count": 4,
     "metadata": {},
     "output_type": "execute_result"
    }
   ],
   "source": [
    "df['conversion'] = df['link_clicks'] / df['link_clicks'].sum()\n",
    "\n",
    "df"
   ]
  },
  {
   "cell_type": "markdown",
   "metadata": {},
   "source": [
    "### 1.3. Experiment Parameters"
   ]
  },
  {
   "cell_type": "code",
   "execution_count": 4,
   "metadata": {},
   "outputs": [
    {
     "name": "stdout",
     "output_type": "stream",
     "text": [
      "Sample Size for one variant: 154\n",
      "Total sample size for each variant: 770\n"
     ]
    }
   ],
   "source": [
    "# Type I Error\n",
    "confidence_level = 0.95\n",
    "significance_level = 0.05\n",
    "\n",
    "# Type II Error\n",
    "stats_power = 0.8\n",
    "\n",
    "# Expected Clicks Distribuition\n",
    "# Need 2 Dist, the Observed and the Expected for Chi Square Test.\n",
    "# Observed is a 'Quo Status', is the collected data from experiment. \n",
    "# The null hypothesis is that 'there is no difference, so the distribution of clicks is equitable between titles'ArithmeticError\n",
    "# Based on this, expecting [0.2] * 5 (size of data) clicks on all titles.\n",
    "quo_status_title_dist = (df['link_clicks'] / df['link_clicks'].sum()).tolist()\n",
    "expected_titles_dist = [1 / len(df)] * len(df)\n",
    "\n",
    "# Effect Size for Chi Square\n",
    "# probs0: probabilities or cell frequencies under the Null hypothesis\n",
    "# probs1: probabilities or cell frequencies under the Alternative hypothesis\n",
    "effect_size = chisquare_effectsize(\n",
    "    probs0=expected_titles_dist, \n",
    "    probs1=quo_status_title_dist,\n",
    "    cohen=True\n",
    ")\n",
    "\n",
    "# Sample Size\n",
    "# Cohen, pg 252, 7.4. Sample Size Tables\n",
    "power_info = power.GofChisquarePower()\n",
    "\n",
    "n = np.ceil(\n",
    "        power_info.solve_power(\n",
    "            power=stats_power,\n",
    "            effect_size=effect_size,\n",
    "            alpha=significance_level,\n",
    "            n_bins=4\n",
    ")).astype(int)\n",
    "\n",
    "print(f'Sample Size for one variant: {n}')\n",
    "print(f'Total sample size for each variant: {n*len(df)}')\n"
   ]
  },
  {
   "cell_type": "code",
   "execution_count": 5,
   "metadata": {},
   "outputs": [
    {
     "name": "stdout",
     "output_type": "stream",
     "text": [
      "Sample Size for one variant: 169\n",
      "Total sample size for each variant: 845\n"
     ]
    }
   ],
   "source": [
    "# Cohen Correction\n",
    "# Cohen, pg 252, 7.4. Sample Size Tables\n",
    "\n",
    "from numpy import ceil\n",
    "sample_size = ceil(1194 / (100 * effect_size**2)).astype(int)\n",
    "\n",
    "print(f'Sample Size for one variant: {sample_size}')\n",
    "print(f'Total sample size for each variant: {sample_size*len(df)}')"
   ]
  },
  {
   "cell_type": "markdown",
   "metadata": {},
   "source": [
    "### 1.4. Calculate Control & Treatment Explicity Metrics"
   ]
  },
  {
   "cell_type": "code",
   "execution_count": 53,
   "metadata": {},
   "outputs": [],
   "source": [
    "df['no_link_clicks'] = df['all_clicks'] - df['link_clicks']"
   ]
  },
  {
   "cell_type": "code",
   "execution_count": 54,
   "metadata": {},
   "outputs": [
    {
     "data": {
      "text/plain": [
       "[0.21105527638190955,\n",
       " 0.2663316582914573,\n",
       " 0.10552763819095477,\n",
       " 0.19095477386934673,\n",
       " 0.22613065326633167]"
      ]
     },
     "execution_count": 54,
     "metadata": {},
     "output_type": "execute_result"
    }
   ],
   "source": [
    "# Observed Conversions, expecting 0.2 in all title clicks examples\n",
    "df['conversion'].tolist()"
   ]
  },
  {
   "cell_type": "code",
   "execution_count": 55,
   "metadata": {},
   "outputs": [
    {
     "data": {
      "text/plain": [
       "0    interact: 0.01130\n",
       "1     connect: 0.03339\n",
       "2       learn: 0.01271\n",
       "3        help: 0.02213\n",
       "4    services: 0.03251\n",
       "dtype: object"
      ]
     },
     "execution_count": 55,
     "metadata": {},
     "output_type": "execute_result"
    }
   ],
   "source": [
    "# 0.01% of page click on Interact Variant\n",
    "df.apply(lambda x: x['variant']+': '+str(x['link_clicks'] / x['all_clicks'])[:7], axis=1)"
   ]
  },
  {
   "cell_type": "markdown",
   "metadata": {},
   "source": [
    "### 1.5. Apply Statistics Inference Test"
   ]
  },
  {
   "cell_type": "code",
   "execution_count": 56,
   "metadata": {},
   "outputs": [
    {
     "name": "stdout",
     "output_type": "stream",
     "text": [
      "P-Value for Chi Square Test: 3.5866291817050568e-09\n",
      "\n",
      "Reject Null Hypothesis because have a effect on title page variants!\n",
      "Is necessary a post-hoc test because have 4 variants\n"
     ]
    }
   ],
   "source": [
    "df1 = df[['variant', 'link_clicks', 'no_link_clicks']]\n",
    "df1 = df1.set_index('variant')\n",
    "\n",
    "chi_stats, p_value, dof, expected = stats.chi2_contingency(df1)\n",
    "\n",
    "print(f'P-Value for Chi Square Test: {p_value}')\n",
    "\n",
    "if p_value < significance_level:\n",
    "    print('\\nReject Null Hypothesis because have a effect on title page variants!')\n",
    "    print(f'Is necessary a post-hoc test because have {len(df)-1} variants')\n",
    "else:\n",
    "    print('\\nReject Alternative HYpothesis because do not have a effect on titles pages variants!')"
   ]
  },
  {
   "cell_type": "code",
   "execution_count": 60,
   "metadata": {},
   "outputs": [
    {
     "data": {
      "text/html": [
       "<div>\n",
       "<style scoped>\n",
       "    .dataframe tbody tr th:only-of-type {\n",
       "        vertical-align: middle;\n",
       "    }\n",
       "\n",
       "    .dataframe tbody tr th {\n",
       "        vertical-align: top;\n",
       "    }\n",
       "\n",
       "    .dataframe thead th {\n",
       "        text-align: right;\n",
       "    }\n",
       "</style>\n",
       "<table border=\"1\" class=\"dataframe\">\n",
       "  <thead>\n",
       "    <tr style=\"text-align: right;\">\n",
       "      <th></th>\n",
       "      <th>var0</th>\n",
       "      <th>var1</th>\n",
       "      <th>p_val</th>\n",
       "      <th>reject</th>\n",
       "    </tr>\n",
       "  </thead>\n",
       "  <tbody>\n",
       "    <tr>\n",
       "      <th>0</th>\n",
       "      <td>interact</td>\n",
       "      <td>connect</td>\n",
       "      <td>0.000000</td>\n",
       "      <td>True</td>\n",
       "    </tr>\n",
       "    <tr>\n",
       "      <th>1</th>\n",
       "      <td>interact</td>\n",
       "      <td>learn</td>\n",
       "      <td>0.761698</td>\n",
       "      <td>False</td>\n",
       "    </tr>\n",
       "    <tr>\n",
       "      <th>2</th>\n",
       "      <td>interact</td>\n",
       "      <td>help</td>\n",
       "      <td>0.003103</td>\n",
       "      <td>True</td>\n",
       "    </tr>\n",
       "    <tr>\n",
       "      <th>3</th>\n",
       "      <td>interact</td>\n",
       "      <td>services</td>\n",
       "      <td>0.000000</td>\n",
       "      <td>True</td>\n",
       "    </tr>\n",
       "    <tr>\n",
       "      <th>4</th>\n",
       "      <td>connect</td>\n",
       "      <td>learn</td>\n",
       "      <td>0.000133</td>\n",
       "      <td>True</td>\n",
       "    </tr>\n",
       "    <tr>\n",
       "      <th>5</th>\n",
       "      <td>connect</td>\n",
       "      <td>help</td>\n",
       "      <td>0.061442</td>\n",
       "      <td>False</td>\n",
       "    </tr>\n",
       "    <tr>\n",
       "      <th>6</th>\n",
       "      <td>connect</td>\n",
       "      <td>services</td>\n",
       "      <td>0.975034</td>\n",
       "      <td>False</td>\n",
       "    </tr>\n",
       "    <tr>\n",
       "      <th>7</th>\n",
       "      <td>learn</td>\n",
       "      <td>help</td>\n",
       "      <td>0.050896</td>\n",
       "      <td>False</td>\n",
       "    </tr>\n",
       "    <tr>\n",
       "      <th>8</th>\n",
       "      <td>learn</td>\n",
       "      <td>services</td>\n",
       "      <td>0.000316</td>\n",
       "      <td>True</td>\n",
       "    </tr>\n",
       "    <tr>\n",
       "      <th>9</th>\n",
       "      <td>help</td>\n",
       "      <td>services</td>\n",
       "      <td>0.095135</td>\n",
       "      <td>False</td>\n",
       "    </tr>\n",
       "  </tbody>\n",
       "</table>\n",
       "</div>"
      ],
      "text/plain": [
       "       var0      var1     p_val  reject\n",
       "0  interact   connect  0.000000    True\n",
       "1  interact     learn  0.761698   False\n",
       "2  interact      help  0.003103    True\n",
       "3  interact  services  0.000000    True\n",
       "4   connect     learn  0.000133    True\n",
       "5   connect      help  0.061442   False\n",
       "6   connect  services  0.975034   False\n",
       "7     learn      help  0.050896   False\n",
       "8     learn  services  0.000316    True\n",
       "9      help  services  0.095135   False"
      ]
     },
     "execution_count": 60,
     "metadata": {},
     "output_type": "execute_result"
    }
   ],
   "source": [
    "# Post-Hoc... Chi2 for each title variation combination\n",
    "\n",
    "list_combinations = list(combinations(df1.index, 2))\n",
    "p_values = []\n",
    "\n",
    "for xi, yi in list_combinations:\n",
    "    df0 = df1[(df1.index == xi) | (df1.index == yi)]\n",
    "    chi2_stats, p_val, _, _ = stats.chi2_contingency(df0)\n",
    "    p_values.append(p_val)\n",
    "\n",
    "data = []\n",
    "for c, p_ in zip(list_combinations, p_values):\n",
    "    if p_ < significance_level:\n",
    "        reject = True\n",
    "    else:\n",
    "        reject = False\n",
    "    data.append({'var0': c[0], 'var1': c[1], 'p_val':np.round(p_, 6), 'reject': reject})\n",
    "\n",
    "dfs = pd.DataFrame(data)\n",
    "dfs"
   ]
  },
  {
   "cell_type": "code",
   "execution_count": 61,
   "metadata": {},
   "outputs": [
    {
     "data": {
      "text/html": [
       "<div>\n",
       "<style scoped>\n",
       "    .dataframe tbody tr th:only-of-type {\n",
       "        vertical-align: middle;\n",
       "    }\n",
       "\n",
       "    .dataframe tbody tr th {\n",
       "        vertical-align: top;\n",
       "    }\n",
       "\n",
       "    .dataframe thead th {\n",
       "        text-align: right;\n",
       "    }\n",
       "</style>\n",
       "<table border=\"1\" class=\"dataframe\">\n",
       "  <thead>\n",
       "    <tr style=\"text-align: right;\">\n",
       "      <th></th>\n",
       "      <th>var0</th>\n",
       "      <th>var1</th>\n",
       "      <th>p_val</th>\n",
       "      <th>reject</th>\n",
       "      <th>adj_pvals</th>\n",
       "      <th>adj_reject</th>\n",
       "    </tr>\n",
       "  </thead>\n",
       "  <tbody>\n",
       "    <tr>\n",
       "      <th>0</th>\n",
       "      <td>interact</td>\n",
       "      <td>connect</td>\n",
       "      <td>0.000000</td>\n",
       "      <td>True</td>\n",
       "      <td>0.00000</td>\n",
       "      <td>True</td>\n",
       "    </tr>\n",
       "    <tr>\n",
       "      <th>1</th>\n",
       "      <td>interact</td>\n",
       "      <td>learn</td>\n",
       "      <td>0.761698</td>\n",
       "      <td>False</td>\n",
       "      <td>1.00000</td>\n",
       "      <td>False</td>\n",
       "    </tr>\n",
       "    <tr>\n",
       "      <th>2</th>\n",
       "      <td>interact</td>\n",
       "      <td>help</td>\n",
       "      <td>0.003103</td>\n",
       "      <td>True</td>\n",
       "      <td>0.03103</td>\n",
       "      <td>True</td>\n",
       "    </tr>\n",
       "    <tr>\n",
       "      <th>3</th>\n",
       "      <td>interact</td>\n",
       "      <td>services</td>\n",
       "      <td>0.000000</td>\n",
       "      <td>True</td>\n",
       "      <td>0.00000</td>\n",
       "      <td>True</td>\n",
       "    </tr>\n",
       "    <tr>\n",
       "      <th>4</th>\n",
       "      <td>connect</td>\n",
       "      <td>learn</td>\n",
       "      <td>0.000133</td>\n",
       "      <td>True</td>\n",
       "      <td>0.00133</td>\n",
       "      <td>True</td>\n",
       "    </tr>\n",
       "    <tr>\n",
       "      <th>5</th>\n",
       "      <td>connect</td>\n",
       "      <td>help</td>\n",
       "      <td>0.061442</td>\n",
       "      <td>False</td>\n",
       "      <td>0.61442</td>\n",
       "      <td>False</td>\n",
       "    </tr>\n",
       "    <tr>\n",
       "      <th>6</th>\n",
       "      <td>connect</td>\n",
       "      <td>services</td>\n",
       "      <td>0.975034</td>\n",
       "      <td>False</td>\n",
       "      <td>1.00000</td>\n",
       "      <td>False</td>\n",
       "    </tr>\n",
       "    <tr>\n",
       "      <th>7</th>\n",
       "      <td>learn</td>\n",
       "      <td>help</td>\n",
       "      <td>0.050896</td>\n",
       "      <td>False</td>\n",
       "      <td>0.50896</td>\n",
       "      <td>False</td>\n",
       "    </tr>\n",
       "    <tr>\n",
       "      <th>8</th>\n",
       "      <td>learn</td>\n",
       "      <td>services</td>\n",
       "      <td>0.000316</td>\n",
       "      <td>True</td>\n",
       "      <td>0.00316</td>\n",
       "      <td>True</td>\n",
       "    </tr>\n",
       "    <tr>\n",
       "      <th>9</th>\n",
       "      <td>help</td>\n",
       "      <td>services</td>\n",
       "      <td>0.095135</td>\n",
       "      <td>False</td>\n",
       "      <td>0.95135</td>\n",
       "      <td>False</td>\n",
       "    </tr>\n",
       "  </tbody>\n",
       "</table>\n",
       "</div>"
      ],
      "text/plain": [
       "       var0      var1     p_val  reject  adj_pvals  adj_reject\n",
       "0  interact   connect  0.000000    True    0.00000        True\n",
       "1  interact     learn  0.761698   False    1.00000       False\n",
       "2  interact      help  0.003103    True    0.03103        True\n",
       "3  interact  services  0.000000    True    0.00000        True\n",
       "4   connect     learn  0.000133    True    0.00133        True\n",
       "5   connect      help  0.061442   False    0.61442       False\n",
       "6   connect  services  0.975034   False    1.00000       False\n",
       "7     learn      help  0.050896   False    0.50896       False\n",
       "8     learn  services  0.000316    True    0.00316        True\n",
       "9      help  services  0.095135   False    0.95135       False"
      ]
     },
     "execution_count": 61,
     "metadata": {},
     "output_type": "execute_result"
    }
   ],
   "source": [
    "# Documentation: https://www.statsmodels.org/0.8.0/generated/statsmodels.sandbox.stats.multicomp.multipletests.html\n",
    "adj_rejects, adj_pvs, _, _ = multipletests(dfs['p_val'], alpha=significance_level, method='bonferroni')\n",
    "\n",
    "dfs['adj_pvals'] = adj_pvs\n",
    "dfs['adj_reject'] = adj_rejects\n",
    "\n",
    "dfs"
   ]
  }
 ],
 "metadata": {
  "kernelspec": {
   "display_name": "Python 3.10.6 ('ab-test': venv)",
   "language": "python",
   "name": "python3"
  },
  "language_info": {
   "codemirror_mode": {
    "name": "ipython",
    "version": 3
   },
   "file_extension": ".py",
   "mimetype": "text/x-python",
   "name": "python",
   "nbconvert_exporter": "python",
   "pygments_lexer": "ipython3",
   "version": "3.10.6"
  },
  "orig_nbformat": 4,
  "vscode": {
   "interpreter": {
    "hash": "a9d96985b44aad8485d20dfd444567b4d7a87349c0292cd44132eacaa5c3b639"
   }
  }
 },
 "nbformat": 4,
 "nbformat_minor": 2
}
