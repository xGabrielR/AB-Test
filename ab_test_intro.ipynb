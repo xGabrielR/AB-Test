{
 "cells": [
  {
   "cell_type": "markdown",
   "metadata": {},
   "source": [
    "### Introdução"
   ]
  },
  {
   "cell_type": "markdown",
   "metadata": {},
   "source": [
    "> Devemos investigar e aceitar os resultados. Se não resistem a estes testes,\n",
    "> até as palavras de Buda devem ser rejeitadas.\n",
    "> ~ Dalai lama\n",
    ">\n",
    "> One accurate measurement is worth more than a thousand expert opinions\n",
    "> ~ Admiral Grace Hopper"
   ]
  },
  {
   "cell_type": "markdown",
   "metadata": {},
   "source": [
    "**O'Que é uma Hipótese ?**\n",
    " \n",
    "<hr>\n",
    " \n",
    "Basicamente, tudo começa com uma pergunta ou uma coisa que você quer medir, um teste ou uma suposição, por exemplo, será que o botão na cor azul é melhor que o botão na cor vermelha ?\n",
    " \n",
    "Minha hipótese é, o **botão na cor azul** tem uma **taxa de cliques de 37% a mais** que o **botão na cor vermelho**.\n",
    " \n",
    "A hipótese deve ser uma afirmação, onde nela deve conter os parâmetros para a validação da mesma, ou seja, deve conter a sua suposição que vai ser validada e uma hipótese não pode gerar dupla interpretação e também não pode ser incompleta e precisa de um número de comparação.\n",
    " \n",
    "Por exemplo,\n",
    "*O botão azul é melhor que o botão vermelho*. Mas é quanto melhor? um clique a mais?\n",
    " \n",
    "Uma hipótese pode ser validada de várias formas, como uma análise gráfica na etapa de exploração de dados, pelos especialistas, e de várias outras formas, mas essa hipótese é estatisticamente significante, ou em outras palavras, foi utilizado um teste estatístico para a validação dessa hipótese?\n",
    " \n",
    "Já em outras palavras mais estatísticas, uma hipótese **estatística** é uma suposição sobre determinado parâmetro da população, como a média, variância, proporção, etc.\n",
    " \n",
    "Você também pode encontrar alguns termos como *\"Overall Evaluation Criterion (OEC)\"* que nada mais é que a sua métrica de interesse ou parâmetro, que no exemplo era a *taxa de cliques nos botões*. E também o conceito de *\"Variant\"* que é o \"fator\" a ser medido que novamente no exemplo dos botões são as respectivas cores azul e vermelho.\n",
    " \n",
    "Nota: Em testes simples de duas variantes (cor azul e vermelho) a nomenclatura variante funciona bem. Porém, em testes com mais \"fatores\", por exemplo, a cor eo tamanho do botão, logo esses dois são os *\"Factors\"* que são os fatores do teste e a \"*Variant*\" são suas classes ou os níveis dos fatores, como as cores respectivamente (azul e vermelho) e o tamanho do botão (10px ou 15px)."
   ]
  },
  {
   "cell_type": "markdown",
   "metadata": {},
   "source": [
    "**O'Que é um teste de hipóteses ?**\n",
    " \n",
    "<hr>\n",
    " \n",
    "Uma validação de uma hipótese pode ser desenvolvido de diversas formas como já citado anteriormente, posso fazer uma análise gráfica com ferramentas como o histograma, gráficos de barras, linhas, etc. Com esses gráficos é ṕossível gerar insights, análises e relatórios visuais para a tomada de decisão.\n",
    " \n",
    "Mas para a validação de uma **hipótese estatística** Ou seja, responder a pergunta de \"é estatisticamente significante\" ou similares é necessário procedimentos antes do teste em si diferentes do que uma simples query na base de dados com um intervalo de datas, é necessário um \"design de experimentos\" e a definição das hipóteses é ligeiramente diferente.\n",
    " \n",
    "Um **teste de hipótese** É um procedimento para decisão a fim de identificar a veracidade ou falsidade de determinada hipótese estatística. Para que uma hipótese estatística seja validada ou rejeitada com um certo grau de certeza, seria necessário examinarmos toda a *população* que nada mais é que todos os dados possíveis ou de determinado *experimento*, mas muita das vezes isso não é possível e trabalhamos em uma *amostra* que nada mais é que um \"pedaço\" da população ou de todo o experimento.\n",
    " \n",
    "Por exemplo, se os botões da página são para a compra de um determinado jogo online ou para o download o mesmo, então sobre esse viés toda a população seria os jogadores de todo o mundo com um determinado intervalo de idade caso tenha classificação de idade ou jogo online específico. Como não é possível que todos os jogadores do mundo façam o download do jogo por vários motivos, como o mesmo pode não ter gostado da capa e do marketing e não foi atraído para fazer o download, o preço, falta de espaço no HD, entre outras várias variantes.\n"
   ]
  },
  {
   "cell_type": "markdown",
   "metadata": {},
   "source": [
    "#### População e Amostra"
   ]
  },
  {
   "cell_type": "markdown",
   "metadata": {},
   "source": [
    "Como já citado, a população é todos que podem se beneficiar do meu produto ou do meu serviço, uma região, um país, depende muito do problema de negócio, e uma amostra é, de todos da população vou selecionar aleatoriamente um valor de tamanho *n* onde o mesmo é um fator calculado no \"Design de Experimentos\".\n",
    "\n",
    "Os resultados de uma amostra aleatória extraída de uma população apenas aproximam as características da população."
   ]
  },
  {
   "cell_type": "markdown",
   "metadata": {},
   "source": [
    "![img](https://miro.medium.com/max/720/1*CJJ4317A9UgGa_WQi2SQLw.png)"
   ]
  },
  {
   "cell_type": "code",
   "execution_count": 4,
   "metadata": {},
   "outputs": [
    {
     "name": "stdout",
     "output_type": "stream",
     "text": [
      "Population Mean: 29.118773379792668\n",
      "Population Std: 120.2610\n"
     ]
    }
   ],
   "source": [
    "import random\n",
    "\n",
    "# População de 100.000 registros\n",
    "pop = [random.normalvariate(29, 120) for _ in range(0,100_000)]\n",
    "mean_pop = sum(pop) / len(pop)\n",
    "std_pop = (sum([(k - mean_pop)**2 for k in pop]) / len(pop))**(1/2)\n",
    "\n",
    "print(f\"Population Mean: {mean_pop}\")\n",
    "print(f\"Population Std: {std_pop:.4f}\")"
   ]
  },
  {
   "cell_type": "code",
   "execution_count": 15,
   "metadata": {},
   "outputs": [
    {
     "name": "stdout",
     "output_type": "stream",
     "text": [
      "Population Mean: 18.072175963398664\n",
      "Population Std: 134.7327\n"
     ]
    }
   ],
   "source": [
    "# As amostras devem ser aleatorias para evitar o víes de seleção.\n",
    "random.shuffle(pop)\n",
    "\n",
    "# Amostra aleatória de 50 valores\n",
    "sample_size = 50\n",
    "samples = random.choices(pop, k=sample_size)\n",
    "\n",
    "mean_sample = sum(samples) / len(samples)\n",
    "std_sample = (sum([(k - mean_sample)**2 for k in samples]) / len(samples))**(1/2)\n",
    "\n",
    "print(f\"Population Mean: {mean_sample}\")\n",
    "print(f\"Population Std: {std_sample:.4f}\")"
   ]
  },
  {
   "cell_type": "markdown",
   "metadata": {},
   "source": [
    "### Motivação"
   ]
  },
  {
   "cell_type": "markdown",
   "metadata": {},
   "source": [
    "Uma das motivações é a garantia da estatística do resultado do seu experimento ter realmente um efeito ou não ter nenhum efeito e é tudo ilusão."
   ]
  },
  {
   "cell_type": "markdown",
   "metadata": {},
   "source": [
    "#### Caso de um E-Commerce"
   ]
  },
  {
   "cell_type": "markdown",
   "metadata": {},
   "source": [
    "Imagine-se que você desenvolveu duas páginas, essas duas páginas foram desenvolvidas com o intuito de melhorar a finalização da compra após o cliente escolher os produtos do carrinho e finalizar a compra. Durante esse processo de finalização de pedido em uma empresa, existe uma métrica de taxa de carrinho abandonado e também a conversão (cliente que realmente efetuou o pagamento), sendo assim, a hipótese é que a nova página tem uma conversão de 0.05% superior à página atual.\n",
    " \n",
    "Porém, não foi bem isso que aconteceu, a página da hipótese testada não teve um efeito, na verdade a mesma teve um efeito pior, a taxa de conversão caiu 90%. Essa queda na conversão aconteceu pelo fato de ter a opção de inserir o cupom de desconto no final da transação, isso desmotivou os clientes a finalizar a compra por que os mesmos não tinham ganhado desconto.\n",
    " \n",
    "~ Fonte da referẽncia, paper: ExperimentsOnTheWebSurvey.\n"
   ]
  },
  {
   "cell_type": "markdown",
   "metadata": {},
   "source": [
    "### Hipóteses e Testes Estatísticos"
   ]
  },
  {
   "cell_type": "markdown",
   "metadata": {},
   "source": [
    "Para testar uma hipótese estatística é necessário algumas etapas antes do teste em si, a primeira e mais importante é a definição da hipótese por parte do problema de negócio.\n",
    " \n",
    "A definição dessas hipóteses servem para escolher o tipo de teste de **inferência estatística**. Por trabalharmos em uma *amostra*, precisamos inferir que essa *amostra* é *maior*, *menor* ou *diferente* da população.\n",
    " \n",
    "Em outras palavras, o fenômeno ou parâmetro que está na minha hipótese estatística pode ser maior, menor ou diferente do que estou medindo.\n",
    " \n",
    "Para definir uma hipótese estatística que será a base do experimento, é necessário duas alternativas, a hipótese nula que nada mais é que o fenômeno já observado ou oque já está em produção o atual. E a hipótese alternativa que nada mais é que a expectativa ou o quanto eu quero alcançar, em outras palavras é a diferença, respectivamente ambas são representadas por Ho e Ha.\n",
    " \n",
    "Ho -> Hipótese Nula. (Status Quo). Em outras palavras, a hipótese de que o fenômeno a ser demonstrado está de fato ausente.\n",
    " \n",
    "Ha -> Hipótese Alternativa. (Esperado). Em outras palavras, de fato existe um fenômeno presente.\n",
    " \n",
    "Com a definição dessas duas hipóteses, então é possível aplicar um dos vários testes estatísticos para descobrir se a hipótese testada é verdadeira ou não com um certo grau de incerteza em ambas as respostas.\n",
    " \n",
    "Por exemplo, pode-se afirmar com um certo grau de certeza do resultado do teste que a **hipótese é verdadeira quando ela na verdade não é** ou quando você afirma que **não tem nenhum efeito quando realmente existe um** logo após o teste mais na verdade devido a aleatoriedade ou a quantidade de amostras disponíveis foi mascarado e o resultado do teste afirmou que não teve nenhum efeito."
   ]
  },
  {
   "cell_type": "markdown",
   "metadata": {},
   "source": [
    "![abpage](https://cdn-m.leadpages.com/leadpages-home.appspot.com/leadpages_blog/2021/04/a-b-testing-10.png)"
   ]
  },
  {
   "cell_type": "markdown",
   "metadata": {},
   "source": [
    "Status Quo: Botão Amarelo.\n",
    "Variação: Botão Azul.\n",
    "\n",
    "Ho: A taxa de cliques da página com o botão azul é igual a taxa de cliques da página com o botão amarelo.\n",
    "\n",
    "Ha: A taxa de cliques da página com o botão azul é maior que a taxa de cliques da página com o botão amarelo.\n",
    "\n",
    "Ou, para resumir,\n",
    "\n",
    "Ho: Taxa de cliques Botão Azul = Taxa de cliques Botão Amarelo (Botão original).\n",
    "\n",
    "Ha: Taxa de cliques Botão Azul > Taxa de cliques Botão Amarelo (Botão original).\n",
    "\n",
    "Partindo dessas duas hipóteses baseada na imagem ou no problema de negócio é necessário a definição das métricas ou do *\"ORC\"*, quantos por cento ou qual a proporção de cliques a mais é esperado da nova página?\n",
    "\n",
    "Com a métrica definida então é possível calcular o tamanho da amostra necessária para a realização do teste."
   ]
  },
  {
   "cell_type": "markdown",
   "metadata": {},
   "source": [
    "#### Teste A/B"
   ]
  },
  {
   "cell_type": "markdown",
   "metadata": {},
   "source": [
    "Resumidamente já fizemos várias coisas:\n",
    " \n",
    "1. Recebimento do problema.\n",
    "2. Selecionar o método para a solução do problema. (Teste A/B).\n",
    "3. Definição das hipóteses.\n",
    "4. Definição da métrica ou valor esperado.\n",
    "5. Vale a pena continuar com o teste ?\n",
    " \n",
    "O item 5 garante que você não desperdiça recursos e tempo em um teste que talvez não traga tanta expectativa para a empresa em termos financeiros ou seja muito custoso nesse momento.\n",
    "Para responder essa pergunta é necessário fazer análises no cenário atual da empresa a fim de entender se a solução que vai ser desenvolvida vai realmente atender as expectativas e se realmente vai trazer algum benefício.\n",
    " \n",
    "Com o entendimento do negócio e a definição das hipóteses então faz-se necessário um **Design de Experimentos**, esse design nada mais é que o passo a passo para executar um **Teste A/B**.\n",
    " \n",
    "Um teste a/b baseia-se nas hipóteses estatísticas definidas anteriormente onde a mesma vai influenciar os demais procedimentos do design de experimento para a conclusão do teste.\n",
    " \n",
    "Em outras palavras, o teste a/b é uma metodologia de pesquisa de experiência de usuário (user research) que aplica testes de hipóteses estatísticas para comparar duas ou mais versões de uma única variável a fim de determinar qual das duas variantes é mais efetiva.\n",
    "\n",
    "Para a realização do teste o mesmo deve ser aplicado em uma amostra de toda a população, pois, caso a página for muito pior pode acarretar em perdas desastrosas como exemplo o e-commerce. Também é necessário a segmentação em dois grupos (Grupo controle e grupo tratamento), o controle vai receber a página amarela que é a atual e o tratamento é o fenômeno a ser medido."
   ]
  },
  {
   "cell_type": "markdown",
   "metadata": {},
   "source": [
    "![groups](https://images.prismic.io/reditus/f354db59-67cd-44df-ade1-ecf5d2fc0107_sample-size.jpg?auto=compress,format)"
   ]
  },
  {
   "cell_type": "markdown",
   "metadata": {},
   "source": [
    "### Design de Experimentos"
   ]
  },
  {
   "cell_type": "code",
   "execution_count": 48,
   "metadata": {},
   "outputs": [
    {
     "data": {
      "text/plain": [
       "'0.13.2'"
      ]
     },
     "execution_count": 48,
     "metadata": {},
     "output_type": "execute_result"
    }
   ],
   "source": [
    "import statsmodels\n",
    "\n",
    "statsmodels.__version__"
   ]
  },
  {
   "cell_type": "markdown",
   "metadata": {},
   "source": [
    "O Design de experimentos nada mais é que o procedimento para a realização do teste, consiste em algumas etapas.\n",
    " \n",
    "**1. Formulação das Hipóteses**\n",
    " \n",
    "- Definição da Hipótese Nula e Alternativa.\n",
    "- Definição do tipo de teste baseado nas hipóteses.\n",
    "- Definição da métrica de avaliação.\n",
    " \n",
    "**2. Coleta & Preparação dos Dados**\n",
    " \n",
    "- Cálculo do tamanho da amostra baseado nas hipóteses e na métrica esperada.\n",
    "- Segmentação do grupo controle e tratamento.\n",
    "- Cálculo do tamanho da amostra para os diferentes grupos.\n",
    "- Definição da estrutura de armazenamento e coleta.\n",
    "- Método de separação (Como vai garantir a aleatoriedade das amostras).\n",
    "   - Flag A/B e Ferramentas.\n",
    "- Preparação e Limpeza dos dados.\n",
    "   - Verificar se não tem duplicidade, amostragem caso necessário etc...\n",
    " \n",
    "**3. Testando as Hipóteses**\n",
    " \n",
    "- Cálculo das métricas do grupo Controle e do Tratamento.\n",
    "- Escolha do método de inferência estatística para calcular o p-valor.\n",
    "- Correção do P-Valor caso necessário.\n",
    " \n",
    "**4. Conclusões do Teste**\n",
    " \n",
    "- Interpretação do P-Valor.\n",
    "- Validação das Hipóteses.\n",
    "- Conclusões do Teste.\n",
    "- Cálculo do faturamento/vendas/métrica potencial."
   ]
  },
  {
   "cell_type": "markdown",
   "metadata": {},
   "source": [
    "#### Parâmetros do Teste A/B"
   ]
  },
  {
   "cell_type": "markdown",
   "metadata": {},
   "source": [
    "##### Tipo do Teste"
   ]
  },
  {
   "cell_type": "markdown",
   "metadata": {},
   "source": [
    "Os primeiros parâmetros é justamente a hipótese. A definição da hipótese nula e da hipótese alternativa guiam o tipo de teste (Unicaldal e Bicaldal).\n",
    "\n",
    "No teste Unicaldal a proporção ou a métrica so pode ser maior ou menor. Por exemplo vendas, as vendas eu espero que seja maior na nova página.\n",
    "\n",
    "$$Ho: P_o = P_a$$\n",
    "$$Ho: P_o > P_a$$\n",
    "\n",
    "Já para o teste bicaldal, eu espero uma diferença.\n",
    "\n",
    "$$Ho: P_o = P_a$$\n",
    "$$Ha: P_o <> P_a$$\n",
    "\n",
    "Ambos são definidos pelo problema de negócio."
   ]
  },
  {
   "cell_type": "markdown",
   "metadata": {},
   "source": [
    "![test](https://www.fromthegenesis.com/wp-content/uploads/2018/06/Types-of-Hypothesis-Tests.jpg)"
   ]
  },
  {
   "cell_type": "markdown",
   "metadata": {},
   "source": [
    "Em outras palavras. o investigador está trabalhando em um contexto de comparação de algum parâmetro para duas populações A e B, ele pode definir a existência do fenômeno de duas maneiras diferentes:\n",
    "\n",
    "1. Considera-se que o fenômeno existe se os parâmetros de A e B forem diferentes. Nenhuma direção da diferença, como A maior que B, é especificada, de modo que desvios em qualquer direção da hipótese nula constituem evidência contra ela. Como qualquer uma das caudas da distribuição amostral das diferenças pode contribuir para $\\alpha$, isso geralmente é chamado de teste bicaudal ou bilateral.\n",
    "\n",
    "2. Considera-se que o fenômeno existe apenas se os parâmetros de A e B diferem em uma direção especificada antecipadamente, por exemplo, A maior que B. Nessa circunstância, desvios da hipótese nula apenas na direção especificada constituem evidência contra ela. Como apenas uma cauda da distribuição amostral de diferenças pode contribuir para $\\alpha$, isso geralmente é chamado de teste unicaudal ou unilateral."
   ]
  },
  {
   "cell_type": "markdown",
   "metadata": {},
   "source": [
    "##### Nível de Confiança"
   ]
  },
  {
   "cell_type": "markdown",
   "metadata": {},
   "source": [
    "Como já citado, existe uma incerteza sobre o valor do teste, tendo a incerteza de dizer que não teve nenhum efeito quando realmente teve um e o contrário também é válido, dizer que teve um efeito quando na verdade não teve nada. Ambos os erros são diferentes e a estatística define os dois respectivos com nomes diferentes.\n",
    "\n",
    "Porém, antes mesmos desses erros, existe a incerteza da real métrica estar dentro dos dados coletados pois sempre se trabalha em uma amostra coletada da população onde o teste de hipótese será executado. Essa incerteza do real valor estar dentro da amostra também é chamada de nível de confiança.\n",
    "\n",
    "- Existe uma incerteza no real valor da conversão ou de outra métrica na população e o valor calculado na amostraportando existe uma incerteza sobre o valor estimado!\n",
    "\n",
    "O nível de confiança nada mais é que a chance que a escolha de uma amostra aleatória dessa população resulte em um intervalo de confiança que contém o verdadeiro valor que está sendo estimado, geralmente varia de 95% a 99%.\n",
    " \n",
    "O intervalo de confiança nada mais é que a incerteza distribuída em um intervalo. Por exemplo, se você ver um senhor, qual é a idade dele? Ou se for um bebê?, você pode chutar uma estimação (eu acho que o bebê tem 3 anos de idade), porém, você pode estar errado dado a essa estimação, baseado nisso, você pode citar em um intervalo de idades, eu acho que essa criança tem 1 a 4 anos e eu quero uma confiança de 95% de que realmente a idade seja entre 1 a 4 anos.\n",
    "\n",
    "Resumidamente, para reduzir a incerteza utiliza-se um intervalo, logo eu tenho a confiança de 95% do real valor da população estar na amostra.\n",
    " \n",
    "\"Nível de confiança refere-se à taxa de sucesso do método no longo prazo, ou seja, com que frequência o intervalo vai capturar o parâmetro de interesse\"."
   ]
  },
  {
   "cell_type": "code",
   "execution_count": 1,
   "metadata": {},
   "outputs": [
    {
     "name": "stdout",
     "output_type": "stream",
     "text": [
      "Mean: 0.20394416457393422\n",
      "Std: 0.20293187710872715\n"
     ]
    },
    {
     "data": {
      "image/png": "[encoded data removed]",
      "text/plain": [
       "<Figure size 640x480 with 1 Axes>"
      ]
     },
     "metadata": {},
     "output_type": "display_data"
    }
   ],
   "source": [
    "import random\n",
    "from matplotlib import pyplot as plt\n",
    "\n",
    "pop = [random.expovariate(5.) for _ in range(0, 1_000)]\n",
    "plt.hist(pop, bins=50, histtype='step', color='r', linewidth=3);\n",
    "\n",
    "mean_pop = sum(pop) / len(pop)\n",
    "std_pop = (sum([(k - mean_pop)**2 for k in pop]) / len(pop))**(1/2)\n",
    "\n",
    "print(f'Mean: {mean_pop}')\n",
    "print(f'Std: {std_pop}')"
   ]
  },
  {
   "cell_type": "code",
   "execution_count": 4,
   "metadata": {},
   "outputs": [
    {
     "name": "stdout",
     "output_type": "stream",
     "text": [
      "Mean: 0.19369684891592917\n",
      "Std: 0.1790321405234613\n"
     ]
    },
    {
     "data": {
      "image/png": "[encoded data removed]",
      "text/plain": [
       "<Figure size 640x480 with 1 Axes>"
      ]
     },
     "metadata": {},
     "output_type": "display_data"
    }
   ],
   "source": [
    "sample = random.choices(pop, k=50)\n",
    "plt.hist(sample, bins=50, color='k', histtype='step', linewidth=3);\n",
    "\n",
    "mean_sample = sum(sample) / len(sample)\n",
    "std_sample = (sum([(k - mean_sample)**2 for k in sample]) / len(sample))**(1/2)\n",
    "\n",
    "print(f'Mean: {mean_sample}')\n",
    "print(f'Std: {std_sample}')"
   ]
  },
  {
   "cell_type": "markdown",
   "metadata": {},
   "source": [
    "##### Nível de Significância"
   ]
  },
  {
   "cell_type": "markdown",
   "metadata": {},
   "source": [
    "Dado o nível de confiança, há 5% de chance do valor verdadeiro da conversão/idade/outra métrica *não* estar dentro do intervalo ou da amostra.\n",
    "\n",
    "Se eu fizer 100_000 testes a/b e dessas amostras calcular quantas vezes o valor real esta ali dentro vou ter o nível de confiança que é de todas as amostras uma porção delas o valor estava dentro. Já o nível de significância ou $\\alpha$ é de todas as amostras, 5% delas não continham o verdadeiro valor da população, algumas literaturas afirman que, $\\alpha$ é uma função de $n$, $power$, e $effect~size$.\n",
    "\n",
    "Resumidamente é o risco de tomar a decisão errada que nada mais é dizer que estou observando um efeito quando ele não esta no intervalo.\n",
    "\n",
    "Em outras palavras, *\"O risco máximo de rejeitar a **hipótese nula**, observar evidências suficientes para afirmar que **há um efeito, quando na verdade a hipótese nula é verdadeira**, ou seja, não há efeito nenhum\"*.\n",
    "\n",
    "Este também é chamado de Erro Tipo I, erro ao dizer que há um efeito, quando realmente não existe nenhum. Ou em outras palavras rejeitar a hipótese nula quando ela é verdadeira ou aceitar a hipótece alternativa quando ela é falsa.\n",
    "\n",
    "Rejeitar a hipótese nula quando ela for verdadeira. A probabilidade desse tipo de erro é representada por $\\alpha$:\n",
    "\n",
    "Isolamos assim um elemento dessa forma de inferência estatística, o padrão de prova de que o fenômeno existe, ou, equivalentemente, o padrão de refutação da hipótese nula que afirma que o fenômeno não existe.\n",
    "\n",
    "Confiânça = 95%, Significância = 5%.\n",
    "\n",
    "Nota, um dos tipos de análise de poder responde à pergunta: \"Qual nível de significância devo usar para detectar um determinado $effect~size$ com probabilidade especificada ($power$) para um dado $n$ fixo?\" Considere um investigador cujo ES antecipado é uma população r de 0,30, que deseja que o poder seja 0.75, e quem como um n de 50, que não pode ser aumentado. Essas especificações determinam o critério de significância que ele deve usar, que pode ser encontrado por interpolação aproximada entre subtabelas como sendo cerca de 1 ~= .05, ou 2 ~= .15). Porém essa ultima anpalise não é muito utilizada dado que vários pesquisadores utilizam um alpha mais alto (95% a 99%)."
   ]
  },
  {
   "cell_type": "markdown",
   "metadata": {},
   "source": [
    "##### Poder Estatístico"
   ]
  },
  {
   "cell_type": "markdown",
   "metadata": {},
   "source": [
    "Resumidamente é a probabilidade do teste detectar um efeito quando realmente existe um. Geralmente é definido por um número mágico de 80%.\n",
    "\n",
    "Mas ainda há chances de comenter um erro afirmando que não há um efeito quando realmente existe um. Em outras palavras, não rejeitar a hipótese nula quando ela for falsa. A probabilidade desse tipo de erro é representada por $\\beta$. Também chamado de Erro tipo II.\n",
    "\n",
    "Em outras palavras, o fato de o fenômeno existir na população longe de garantir um resultado estatisticamente significativo. ou seja, um que garante a conclusão de que existe, pois essa conclusão depende de atender ao padrão de prova acordado (ou seja, critério de significância). É neste ponto que o conceito de poder estatístico deve ser considerado. O poder de um teste estatístico de uma hipótese nula é a probabilidade de levar à rejeição da hipótese nula, ou seja, a probabilidade de resultar na conclusão de que o fenômeno existe.\n",
    "\n",
    "O poder de um teste estatístico depende de três parâmetros: o critério de significância, a confiabilidade dos resultados da amostra e o \"tamanho do efeito\", ou seja, o grau em que o fenômeno existe.\n",
    "\n",
    "A direcionalidade do critério de significância também influencia o poder de um teste estatístico. Quando a hipótese nula pode ser rejeitada em qualquer direção, de modo que a região de significância crítica esteja em ambas as caudas da distribuição amostral o teste resultante terá menos poder do que um teste no mesmo nível que é direcional, desde que o resultado da amostra esteja na direção prevista. Como os testes direcionais não podem, por definição, levar à rejeição da hipótese nula na direção oposta à prevista, esses testes não têm poder para detectar tais efeitos. Quando os resultados experimentais estão na direção prevista, todas as outras coisas iguais, um teste no nível \"a1\" (bicaldal) terá poder igual para todos os propósitos práticos a um teste no \"2a\" (unicaldal).\n",
    "\n",
    "Concretamente, se um experimento for realizado para detectar uma diferença entre as médias das populações A e B, em qualquer direção no critério de significância a2 = .05, sob determinadas condições, o teste terá um certo poder. Se, em vez disso, uma antecipação de mA maior que m8 leva a um teste em a1 = .05, esse teste terá potência aproximadamente igual a um teste bicaudal com a2 = .10, portanto, maior poder do que o teste em a2 = . 05, desde que de fato A seja maior que B. Se B for maior que A o teste em a1 = .05 não tem poder, pois essa conclusão é inadmissível. A tentação de realizar testes direcionais por causa de seu maior poder no mesmo nível deve ser temperada pela percepção de que eles impedem encontrar resultados opostos aos previstos. Há circunstâncias ocasionais em que a natureza da decisão é tal que o investigador não precisa saber sobre os efeitos na direção oposta. Por exemplo, ele tomará um certo curso de ação se A for maior que B e não de outra forma. Caso contrário, ele não precisa distinguir entre sua igualdade e B maior que A. Em casos tão infrequentes, testes unicaudais são apropriados.\n",
    "\n",
    "Power = 80%, Beta = 20%"
   ]
  },
  {
   "cell_type": "markdown",
   "metadata": {},
   "source": [
    "##### Tipos de Erros"
   ]
  },
  {
   "cell_type": "markdown",
   "metadata": {},
   "source": [
    "**Erro Tipo I**: \n",
    "\n",
    "- Erro ao dizer que há um efeito, quando realmente não existe nenhum.\n",
    "- Erro ao rejeitar a hipótese nula, quando ela é realmente verdadeira.\n",
    "- Assumir a hipótese alternativa quando ela for **falsa**. A probabilidade desse tipo de erro é representada por $\\alpha$.\n",
    "- $P(erro~ do~ tipo~ 1) = P(rejeitar~ H 0 | H 0~ é ~verdadeira) = \\alpha$\n",
    "\n",
    "**Erro Tipo II**: \n",
    "\n",
    "- O erro ao afirmar que não há nenhum efeito, quando realmente existir um.\n",
    "- Erro ao dizer que a hipótese nula é verdadeira, quando na verdade, a hipótese alternativa é a real.\n",
    "- Assumir a hipótese nula quando ela for **falsa**. A probabilidade desse tipo de erro é representada por $\\beta$:\n",
    "- $P(erro~do~tipo~II) = P(não~rejeitar~H0 | H0~é~falsa) = \\beta$\n",
    "\n",
    "Algumas fontes afirman que a rejeição equivocada da hipótese nula é considerada quatro vezes mais grave do que a aceitação equivocada baseada em uma formula, sendo, a = 0,05, potência = 0,80 e, portanto, b = I - 0,80 = 0,20, a gravidade relativa do erro Tipo I a Tipo II é bfa = 0,20/0,05 = 4"
   ]
  },
  {
   "cell_type": "markdown",
   "metadata": {},
   "source": [
    "#### Tipos de Testes de Inferência Estatística"
   ]
  },
  {
   "cell_type": "markdown",
   "metadata": {},
   "source": [
    "Antes de mais nada, geralmente a etapa da Inferência estatística é onde, dado as amostras previamente coletadas no design de experimento eu de alguma forma tento \"inferir\" a métrica da amostra para a população. Nada mais é que rejeitar ou afirmar uma hipótese utilizando um método de inferência estatística. E existem vários."
   ]
  },
  {
   "cell_type": "markdown",
   "metadata": {},
   "source": [
    "Recomendo fortemente verificar outras árvores de testes de hipóteses:\n",
    "1. https://leanmanufacturing.online/introduction-to-hypothesis-testing/\n",
    "2. https://docs.scipy.org/doc/scipy/reference/stats.html#statistical-tests\n",
    "3. https://upload.wikimedia.org/wikipedia/commons/7/74/InferentialStatisticalDecisionMakingTrees.pdf"
   ]
  },
  {
   "cell_type": "code",
   "execution_count": 3,
   "metadata": {},
   "outputs": [
    {
     "data": {
      "image/jpeg": "[encoded data removed]",
      "text/plain": [
       "<IPython.core.display.Image object>"
      ]
     },
     "execution_count": 3,
     "metadata": {},
     "output_type": "execute_result"
    }
   ],
   "source": [
    "from IPython.display import Image\n",
    "Image('img/tree.jpg')"
   ]
  },
  {
   "cell_type": "markdown",
   "metadata": {},
   "source": [
    "Fazendo uma rápida pesquisa pela internet, os testes s~so divididos em algumas categorias.\n",
    "\n",
    "Mas antes, uma observação. Existem 2 tipos de testes para cada teste hehe. Basicamente existem as condições paramêtricas que nada mais são que regras para a utilização de determinado teste, as condições paramétricas são as seguintes.\n",
    "\n",
    "1. Amostras Normalmente Distribuidas.\n",
    "2. Amostras Idependentes.\n",
    "3. Amostras com Variâncias Iguais.\n",
    "\n",
    "Primeiramente para calcular se a distribuição é normal ou não, existem três alternativas, o teste de Shapiro, *Kolmogorov-Smirnov* e Anderson.\n",
    "\n",
    "- Shapiro: \"O teste de Shapiro-Wilk testa a hipótese nula de que os dados foram extraídos de uma distribuição normal.\" Docs Scipy.\n",
    "    - Parâmetros: (Amostra)<br><br>\n",
    "\n",
    "- Anderson: \"O teste de Anderson-Darling testa a hipótese nula de que uma amostra é extraída de uma população que segue uma distribuição particular. Para o teste de Anderson-Darling, os valores críticos dependem de qual distribuição está sendo testada.\" Docs Scipy.\n",
    "    - Parâmetros (Amostra e a Distribuição a ser testada, Ex: \"norm\").\n",
    "\n",
    "Já para o teste de variância utiliza os da lista abaixo."
   ]
  },
  {
   "cell_type": "markdown",
   "metadata": {},
   "source": [
    "##### Testes de Inferência em dados Categoricos"
   ]
  },
  {
   "cell_type": "markdown",
   "metadata": {},
   "source": [
    "**Quantidade de Grupos > 2**:\n",
    "\n",
    "- Chi-Square Test.\n",
    "\n",
    "\n",
    "**Quantidade de Grupos = 2**:\n",
    "\n",
    "1. Quantidade de Amostras <= 5:\n",
    "\n",
    "    - Fisher Exact Test.<br><br>\n",
    "\n",
    "2. Quantidade de Amostras > 5:\n",
    "\n",
    "    - Amostras Idependentes:\n",
    "\n",
    "        - T Test\n",
    "        - Chi-Square Test.\n",
    "\n",
    "        - Vários Grupos:\n",
    "            - Regressão Logistica.* <br><br>\n",
    "\n",
    "    - Amostras Dependentes:\n",
    "\n",
    "        - McNemar Test [Tabela (2x2)].\n",
    "        - Cochran Q Test [Tabela > (2x2)]."
   ]
  },
  {
   "cell_type": "markdown",
   "metadata": {},
   "source": [
    "##### Testes de Inferência em dados Contínuos"
   ]
  },
  {
   "cell_type": "markdown",
   "metadata": {},
   "source": [
    "**Relação entre as Variáveis**:\n",
    "\n",
    "- Regressão Linear.\n",
    "\n",
    "\n",
    "**Diferênça entre as Variáveis**:\n",
    "\n",
    "1. Um Grupo\n",
    "\n",
    "    - Diferença entre Médias \n",
    "\n",
    "        - One Sample T-Test.\n",
    "\n",
    "        - One-Sample Wilcoxon Signed Rank Test. (Alternativa Não Paramétrica)\n",
    "\n",
    "2. Mais de um Grupo\n",
    "\n",
    "    - Diferênça entre Médias\n",
    "\n",
    "        - *Dois Grupos*\n",
    "\n",
    "            - Z-Test, T-Test.\n",
    "\n",
    "            - Mann-Whittney U Test, Wilcoxon Test. (Alternativas Não Paramétrica)\n",
    "\n",
    "        - *Mais de Dois Grupos*\n",
    "\n",
    "            - Anova.\n",
    "\n",
    "            - Kruskall-Wallis. (Alternativa Não Paramétrica)\n",
    "\n",
    "    - Diferẽnça entre Variâncias\n",
    "\n",
    "        - F-Test, Bartlett Test.\n",
    "\n",
    "        - Levene Test. (Alternativa Não Paramétrica)\n"
   ]
  },
  {
   "cell_type": "markdown",
   "metadata": {},
   "source": [
    "#### Calculando o Tamanho da Amostra"
   ]
  },
  {
   "cell_type": "markdown",
   "metadata": {},
   "source": [
    "##### Tamanho do Efeito"
   ]
  },
  {
   "cell_type": "markdown",
   "metadata": {},
   "source": [
    "O tamanho do efeito nada mais é que um resultado baseado no quão grande é o efeito esperado. Em outras palavras, o poder de um teste estatístico é a probabilidade de ele produzir resultados estatisticamente significativos.\n",
    "\n",
    "- O tamanho do efeito define o tamanho da amostra a ser coletada em ambos os grupos para assim começar a segmentação do controle e do tratamento.\n",
    "- Diferenças pequenas exigem mais dados, diferenças maiores exigem menos dados.\n",
    "\n",
    "Existem duas distribuições, a distribuição normal já mensurada (status quo) e a distribuição observada após a coleta e preparação desses dados. Se a observação esperada for pequena, logo ambas as distribuição vão estar próximas e mais dados vão ser necessários pois existe muita incerteza (overlapping), já quando a observação é muito grande, é necessários, poucos dados pois ambas as distribuições vão ser bem separadas.\n",
    "\n",
    "Mas realmente o botão azul é melhor que o amarelo? Quanto de efeito você espera observar?\n",
    "\n",
    "Em outras palavras, o grau em que o fenômeno está presente na população ou grau em que a hipótese nula é falsa. Qualquer que seja a forma de representação de um fenômeno em uma determinada pesquisa no presente tratamento, a hipótese nula sempre significa que o tamanho do efeito é zero quando a hipótese nula é falsa, ela é falsa em algum grau específico, ou seja, o tamanho do efeito (ES) é algum valor específico diferente de zero na população.\n",
    "\n",
    "Algumas literatuaras afirman que o poder é uma função de $\\alpha$, $effect~size$ e $n$. So que como vamos ter o N sendo que não existe o design do experimento antes e as amostras não foram previamente coletadas? Nesse mesmo livro de referências o autor cita que $n$ é a função de $effect~size$, $a$ e $power$."
   ]
  },
  {
   "cell_type": "markdown",
   "metadata": {},
   "source": [
    "**Fórmas de calcular o tamanho do efeito**\n",
    "\n",
    "<hr>\n",
    "\n",
    "- **Proporção / Conversão**.\n",
    "\n",
    "   - **Cohen's H.** Medida usada para comparar proporções de 2 amostras *independentes*.\n",
    "      - $h = 2(arcsin(\\sqrt{p1}) − arcsin(\\sqrt{p2}))$ <br><br>\n",
    "<hr>\n",
    "\n",
    "- **Média/Sigma**\n",
    "\n",
    "   - **Cohen's D.** Mede a diferença entre as médias de duas amostras com o mesmo tamanho.\n",
    "\n",
    "      - Existe uma versão corrigida para amostras dependentes.\n",
    "      - O pacote pingouin aplica uma correção para esse teste utilizando uma fórumula explícita baseada nos graus de liberdade.\n",
    "      \n",
    "         - $s = \\sqrt{\\frac{(n_1 - 1)s_1² + (n_2 - 1)s_2²}{n_1 + n_2 - 2}}$ $d = \\frac{\\mu_1 = \\mu_2}{s}$<br><br>\n",
    "\n",
    "      - *Caso 0 (Amostras Idependentes)*\n",
    "\n",
    "         - $d = \\frac{m_a - m_b}{\\sigma}$ (Unicaldal).\n",
    "         \n",
    "         - $d = \\frac{|~m_a - m_b~|}{\\sigma}$ (Bicaldal).\n",
    "\n",
    "         Onde, d é o tamanho do efeito para um teste t de médias padronizadas,  ma , mb são as médias das populações (medições originais), e o símbolo  é o desvio padrão de qualquer população (uma vez que eles são considerados iguais).\n",
    "      <br>\n",
    "      \n",
    "   - **Glass Delta** Mede a diferença entre as médias de duas amostras utilizando o desvio-padrão do grupo controle.\n",
    "      - $ d = \\frac{\\mu_1 = \\mu_2}{s} $ <br><br> \n",
    "\n",
    "   - **Hedges G** Correção para amostras menores que 20 do Cohen's D. \n",
    "      - $g = d × (1 − \\frac{3}{4(n1 + n2) − 9} ) $ <br><br>\n",
    "\n",
    "<hr>\n",
    "\n",
    "- **Variável Categórica e Numérica**\n",
    "    - **F Test Anova Power** Calcula o effect size em um teste *F* para a anova de um fator.<br><br>\n",
    "\n",
    "\n",
    "- **Duas Variáveis Categóricas**\n",
    "   - **Chi Quadrado** Mede o effect size para o \"Goodness of fit\" e também para o \"Idependence Test\".  <br><br>"
   ]
  },
  {
   "cell_type": "markdown",
   "metadata": {},
   "source": [
    "##### Cálculos do Tamanho do Efeito"
   ]
  },
  {
   "cell_type": "markdown",
   "metadata": {},
   "source": [
    "A maioria dos exemplos são utilizando as definições propostas por Cohen com implementações em Python."
   ]
  },
  {
   "cell_type": "markdown",
   "metadata": {},
   "source": [
    "**Testes dos Index de Cohen D Effect Size**"
   ]
  },
  {
   "cell_type": "code",
   "execution_count": 3,
   "metadata": {},
   "outputs": [
    {
     "name": "stdout",
     "output_type": "stream",
     "text": [
      "Population Mean: 214.9357\n",
      "Population Std: 106.56371505118416\n",
      "\n",
      "Control Mean: 209.72\n",
      "Control Std: 107.05036945288887\n",
      "Expected Mean: 230.74\n",
      "Expected Std: 117.82042437540272\n"
     ]
    }
   ],
   "source": [
    "from random import choices, randint, seed\n",
    "seed(1)\n",
    "\n",
    "# Para simplificar, vou fazer uma seleção aleatoria mesmo de 100 amostras.\n",
    "population = [randint(30, 399) for _ in range(0, 10_000)]\n",
    "control_sample = choices(population, k=100)\n",
    "\n",
    "# Nova média esperada\n",
    "expected_new_sample = [round(k*1.10) for k in control_sample]\n",
    "expected_new_mean = (sum(control_sample) / len(control_sample)) * 1.10\n",
    "\n",
    "pop_mean = sum(population) / len(population)\n",
    "pop_std  = (sum([(k - pop_mean)**2 for k in population]) / len(population))**(1/2)\n",
    "\n",
    "control_mean = sum(control_sample) / len(control_sample)\n",
    "control_std  = (sum([(k - control_mean)**2 for k in control_sample]) / len(control_sample))**(1/2)\n",
    "\n",
    "expected_mean = sum(expected_new_sample) / len(expected_new_sample)\n",
    "expected_std  = (sum([(k - expected_mean)**2 for k in expected_new_sample]) / len(expected_new_sample))**(1/2)\n",
    "\n",
    "print(f\"Population Mean: {pop_mean}\")\n",
    "print(f\"Population Std: {pop_std}\\n\")\n",
    "\n",
    "print(f\"Control Mean: {control_mean}\")\n",
    "print(f\"Control Std: {control_std}\")\n",
    "\n",
    "print(f\"Expected Mean: {expected_mean}\")\n",
    "print(f\"Expected Std: {expected_std}\")"
   ]
  },
  {
   "cell_type": "code",
   "execution_count": 4,
   "metadata": {},
   "outputs": [
    {
     "data": {
      "text/plain": [
       "0.19725288284012796"
      ]
     },
     "execution_count": 4,
     "metadata": {},
     "output_type": "execute_result"
    }
   ],
   "source": [
    "effect_size_d = (expected_mean - control_mean) / pop_std\n",
    "\n",
    "effect_size_d"
   ]
  },
  {
   "cell_type": "markdown",
   "metadata": {},
   "source": [
    "Seguindo essa lógica e comparando com a tabela de equivalencias do index d, logo arredondando para 0.2 o effect size, temos:\n",
    "U1 = 14.7, U2 = 54.0, U3 = 57.9, r = 0.100, $r²$ = 0.10.\n",
    "\n",
    "Se mantivermos a suposição de que as populações que estão sendo comparadas são normais e com variabilidade igual, e as concebermos como igualmente numerosas, é possível definir medidas de não sobreposição (U) associadas a d que são intuitivamente convincentes e significativas. Como exemplos:\n",
    "\n",
    "1. Quando d = 0 e, portanto, qualquer distribuição da população está perfeitamente sobreposta à outra, há 100% de sobreposição ou 0% de não sobreposição, portanto U 1 = 0. Em tal circunstância, os 50% mais altos da população B excedem os 50% mais baixos da população A. Designamos como U 2 (50% neste exemplo), uma segunda medida de porcentagem de não sobreposição, a porcentagem na população B que excede a mesma porcentagem na população A. Finalmente, como terceira medida de não sobreposição, U 3 , tomamos a porcentagem da população A que a metade superior dos casos da população B excede. Quando d = 0, U3 = 50,0%.\n",
    "\n",
    "2. Quando d >= .1 como no exemplo acima, a distribuição da população com a média maior, B, é quase sobreposta a A, mas com algum excesso leve, ou seja, alguma não sobreposição.\n",
    "\n",
    "Eles estão simplesmente relacionados com d e entre si através da distribuição normal cumulativa. Se d é tomado como um desvio na curva normal unitária e P como a porcentagem da área (população de casos) que cai abaixo de um determinado desvio normal.\n",
    "\n",
    "Quando d = 0,2, populações normalmente distribuídas de igual tamanho e variabilidade têm apenas 14,7% de sua área combinada que não é sobreposta (U 1)"
   ]
  },
  {
   "cell_type": "code",
   "execution_count": 83,
   "metadata": {},
   "outputs": [
    {
     "name": "stdout",
     "output_type": "stream",
     "text": [
      "14.568452666831181\n",
      "53.928256242357655\n",
      "57.81851755355552\n"
     ]
    }
   ],
   "source": [
    "from scipy.stats import norm\n",
    "\n",
    "u3 = norm.cdf(effect_size_d)\n",
    "u2 = norm.cdf(effect_size_d/2)\n",
    "u1 = (2*u2 -1) / u2\n",
    "\n",
    "print(u1*100)\n",
    "print(u2*100)\n",
    "print(u3*100)"
   ]
  },
  {
   "cell_type": "markdown",
   "metadata": {},
   "source": [
    "Já o r, é o index d em termos da correlação."
   ]
  },
  {
   "cell_type": "code",
   "execution_count": 84,
   "metadata": {},
   "outputs": [
    {
     "data": {
      "text/plain": [
       "0.9815023440422989"
      ]
     },
     "execution_count": 84,
     "metadata": {},
     "output_type": "execute_result"
    }
   ],
   "source": [
    "(effect_size_d / (effect_size_d**2 + 4)**0.5)*10"
   ]
  },
  {
   "cell_type": "markdown",
   "metadata": {},
   "source": [
    "Mais casos do Index d.\n",
    "\n",
    "- *Caso 1 ($n_a \\neq n_b, \\sigma_a = \\sigma_b$)*\n",
    "\n",
    "    - $n' = \\frac{2~*~n_a~n_b}{n_a + n_b}$\n",
    "    \n",
    "    Com a média harmónica, partindo de um aplha e um *d* já definidos então encontra-se o poder.\n",
    "    Existem outros casos na lista de referências e também para amostras pareadas e demais aplicações. \n",
    "\n",
    "\n",
    "- *Caso 2 ($n_a = n_b, \\sigma_a \\neq \\sigma_b$)*\n",
    "\n",
    "    - $\\sigma' = \\sqrt{\\frac{\\sigma_A^2 + \\sigma_B^2}{2}}$ \n",
    "\n",
    "    Amostras do mesmo tamanho com variâncias diferentes, usa-se a mesma fórmula, exceto com a correção do sigma na fração.\n",
    "\n",
    "- *Caso **3** Uma Amostra de N Observações*\n",
    "\n",
    "    Nota: Para um teste de effect size One-Sample, a fórmula é a seguinte: \n",
    "\n",
    "    - $d_3' = \\frac{m - c}{\\sigma}$, e $d = d_3' \\sqrt{2}$\n",
    "\n",
    "    Onde $m$ é a média da população, $\\sigma$ é o desvio padrão da população e $c$ é a média especificada pela hipótese nula.\n",
    "\n",
    "- *Caso **4** Uma Amostra de N Diferenças entre observações pareadas*\n",
    "\n",
    "    São coletados pares X, Y que são combinados de alguma maneira para que haja n pares de observações X, Y. O teste t para diferenças de médias prossegue para amostras pareadas (X- Y = Z, mx - my = mz). **\n"
   ]
  },
  {
   "cell_type": "code",
   "execution_count": 85,
   "metadata": {},
   "outputs": [
    {
     "data": {
      "text/plain": [
       "0.18580171291332598"
      ]
     },
     "execution_count": 85,
     "metadata": {},
     "output_type": "execute_result"
    }
   ],
   "source": [
    "from pingouin import compute_effsize\n",
    "\n",
    "effect_size_cohen_d = compute_effsize(expected_new_sample, control_sample, eftype='cohen')\n",
    "\n",
    "effect_size_cohen_d # Cohen D Ajustado pelo Pingouin \"Unbiased Cohen d\""
   ]
  },
  {
   "cell_type": "code",
   "execution_count": 86,
   "metadata": {},
   "outputs": [
    {
     "data": {
      "text/plain": [
       "0.18580171291332598"
      ]
     },
     "execution_count": 86,
     "metadata": {},
     "output_type": "execute_result"
    }
   ],
   "source": [
    "# Cohen's D Sem \"ajuste\" (Pingouin)\n",
    "# Atualmente na biblioteca, não é aplicado nada no resultado da formula do pingouin.\n",
    "from numpy import array, sqrt\n",
    "\n",
    "x = array(expected_new_sample)\n",
    "y = array(control_sample)\n",
    "\n",
    "(x.mean() - y.mean()) / sqrt((x.var(ddof=1) + y.var(ddof=1)) / 2)"
   ]
  },
  {
   "cell_type": "markdown",
   "metadata": {},
   "source": [
    "<hr>"
   ]
  },
  {
   "cell_type": "markdown",
   "metadata": {},
   "source": [
    "**Teste de Proporções Effect Size**"
   ]
  },
  {
   "cell_type": "markdown",
   "metadata": {},
   "source": [
    "Se definíssemos \"potato = P1 - P2\" e tentássemos usar \"potato\" como effect size, logo descobriríamos que a deletabilidade de algum valor dado de \"potato\", sob condições fixas de alpha e N, não seria constante, mas seria variam dependendo de onde ao longo da escala de P entre zero e um o valor \"potato\" ocorreu. Concretamente:\n",
    "\n",
    "1. P1 = .65 e P2 = .45, \"potato\" = .65 - .45 = .20.\n",
    "2. P1 = .25 e P2 = .05, \"potato\" = .25 - .05 = .20.\n",
    "\n",
    "Assim, P não fornece uma escala de unidades iguais de detectabilidade, então, uma transformação não linear de P fornece uma solução para o problema. Quando P's são transformados pela relação.\n",
    "\n",
    "$\\phi = 2 * arcsin \\sqrt{Prop}$\n",
    "\n",
    "$h = \\phi_1 - \\phi_2$ Direcional\n",
    "\n",
    "$h = | \\phi_1 - \\phi_2 |$ Não Direcional"
   ]
  },
  {
   "cell_type": "code",
   "execution_count": 47,
   "metadata": {},
   "outputs": [
    {
     "data": {
      "text/plain": [
       "0.0576728617308947"
      ]
     },
     "execution_count": 47,
     "metadata": {},
     "output_type": "execute_result"
    }
   ],
   "source": [
    "from statsmodels.stats.proportion import proportion_effectsize\n",
    "\n",
    "# Cohen'H proporções idependentes.\n",
    "# Proporção de 0.13 -> Esperado uma proporção de 0.15.\n",
    "effect_size_cohen_h = proportion_effectsize(0.13, 0.15)\n",
    "\n",
    "# Negativo\n",
    "effect_size_cohen_h*(-1)"
   ]
  },
  {
   "cell_type": "code",
   "execution_count": 51,
   "metadata": {},
   "outputs": [
    {
     "data": {
      "text/plain": [
       "0.01999999999999999"
      ]
     },
     "execution_count": 51,
     "metadata": {},
     "output_type": "execute_result"
    }
   ],
   "source": [
    "index_z = 0.15 - 0.13\n",
    "index_z"
   ]
  },
  {
   "cell_type": "code",
   "execution_count": 50,
   "metadata": {},
   "outputs": [
    {
     "data": {
      "text/plain": [
       "0.0576728617308947"
      ]
     },
     "execution_count": 50,
     "metadata": {},
     "output_type": "execute_result"
    }
   ],
   "source": [
    "# Cálculo manual implementado na biblioteca\n",
    "from numpy import arcsin, sqrt\n",
    "\n",
    "2 * (arcsin(sqrt(.15)) - arcsin(sqrt(.13)))"
   ]
  },
  {
   "cell_type": "markdown",
   "metadata": {},
   "source": [
    "<hr>"
   ]
  },
  {
   "cell_type": "markdown",
   "metadata": {},
   "source": [
    "**Teste de Qui Quadrado Effect Size**"
   ]
  },
  {
   "cell_type": "markdown",
   "metadata": {},
   "source": [
    "Caso 0: Testes de Ajustes. Aqui, um único conjunto de categorias de frequências ou proporções amostrais é testado contra um conjunto pré-especificado que compreende a hipótese nula (Edwards, 1972, pp. 53-55; Hays, 1981, pp. 537-544).\n",
    "\n",
    "Caso 1: Testes de Contingência. Aqui observadas frequências, são classificados simultaneamente por meio de duas variáveis ou princípios de classificação diferentes, ou seja, em uma tabela de duas vias. As frequências conjuntas são testadas contra uma hipótese nula que especifica nenhuma associação entre as duas bases de classificação (veja o seguinte: Hays, 1981, pp. 544-552; Edwards, 1972, pp. 55-65; Blalock, 1972, pp. 275-314)."
   ]
  },
  {
   "cell_type": "markdown",
   "metadata": {},
   "source": [
    "Exigimos para um índice para o tamanho do efeito que seja um número \"puro\" que aumenta com o grau de discrepância entre a distribuição especificada pela hipótese alternativa e também aquela que representa a hipótese nula. Alcançamos a \"pureza\" aqui trabalhando com frequências relativas, ou seja, proporções. Em ambos os casos, existem \"células\"; categorias no Caso 0 e categorias conjuntas no Caso 1. Para cada célula, há duas proporções populacionais, uma dada pela hipótese nula e outra pela alternativa. O índice w, mede a discrepância entre essas proporções pareadas sobre as células da seguinte maneira:\n",
    "\n",
    "$$w = \\sqrt{\\sum \\frac{(P_{1i} - P_{0i})^{2}}{P_{0i}}}$$\n",
    "\n",
    "Onde P0i é a proporção na célula i postulada pela hipótese nula. P1i é a proporção na célula i postulada pela hipótese alternativa e reflete o efeito para aquela célula. (Cohen).\n",
    "\n",
    "O teste de qui quadrado é unidirecional quando o graus de liberdade é igual a 1 (ou \"u = 1\"), com mais do que um grau de liberdade, as saidas podem ocorrer em várias direções. Fórmula dos graus de liberdade: $u = (r - 1) . (k - 1)$."
   ]
  },
  {
   "cell_type": "code",
   "execution_count": 46,
   "metadata": {},
   "outputs": [
    {
     "data": {
      "text/plain": [
       "0.8"
      ]
     },
     "execution_count": 46,
     "metadata": {},
     "output_type": "execute_result"
    }
   ],
   "source": [
    "from statsmodels.stats.gof import chisquare_effectsize\n",
    "\n",
    "# \"effect size for a chisquare goodness-of-fit test\".\n",
    "# Probs 0: probabilities or cell frequencies under the Null hypothesis.\n",
    "# Probs 1: probabilities or cell frequencies under the Alternative hypothesis.\n",
    "# Cohen: Retorna o verdadeiro cálculo definido por cohen (Livro na referencia).\n",
    "\n",
    "# Obs, para os demais casos o algoritimo já transforma em uma proporção.\n",
    "\n",
    "cohen_w = chisquare_effectsize(\n",
    "    probs0=[.5, .5], \n",
    "    probs1=[.1, .9],\n",
    "    cohen=True\n",
    ")\n",
    "\n",
    "cohen_w"
   ]
  },
  {
   "cell_type": "code",
   "execution_count": 33,
   "metadata": {},
   "outputs": [
    {
     "data": {
      "text/plain": [
       "0.8"
      ]
     },
     "execution_count": 33,
     "metadata": {},
     "output_type": "execute_result"
    }
   ],
   "source": [
    "sum([(p1i - p0i)**2 / p0i for p0i, p1i in zip([.5, .5], [.1, .9])])**(0.5)"
   ]
  },
  {
   "cell_type": "markdown",
   "metadata": {},
   "source": [
    "<hr>"
   ]
  },
  {
   "cell_type": "markdown",
   "metadata": {},
   "source": [
    "**Teste de Variância Effect Size**"
   ]
  },
  {
   "cell_type": "markdown",
   "metadata": {},
   "source": [
    "Similarmente as demais análises, é necessário um coeficiênte puro que recebe o nome de $\"f\"$. Onde para esse teste existem várias possibilidades que afetam o teste.\n",
    "\n",
    "1. Análise de variância unidirecional (One-way) com n's iguais. Este é o projeto mais simples, onde sem outras considerações, compara-se k médias com base em amostras de igual tamanho.\n",
    "\n",
    "2. Análise de variância unidirecional (One-way) com n's desiguais.\n",
    "3. Testes de efeitos principais em experimentos fatoriais e outros complexos.\n",
    "4. Testes de interações em experimentos fatoriais.\n",
    "Análise de Covariância. Cada um dos casos acima tem seu análogo na análise de covariância.\n",
    "\n",
    "<hr>\n",
    "\n",
    "Para o Caso 1 e o Caso 3 utiliza-se a seguinte fórmula (n's iguais):\n",
    "\n",
    "$$f = \\frac{\\sigma_m}{\\sigma}, ~\\sigma_m = \\sqrt{\\frac{\\sum^{k}_{i=1}{(m_i - m)}^{2}}{k}}$$\n",
    "\n",
    "Onde *$k$* representa as médias das populações, os valores entre parênteses são os desvios das médias populacionais (*$\"m_i\"$*) da média das populações combinadas ou da média das médias para tamanhos de amostra iguais (*$\"m\"$*) e os *$\"\\sigma\"$* da fórmula acima e da fórmula do cohen's d são os mesmos, o desvio padrão dentro das populações, também expresso em unidades de escala originais. f é, portanto, também um número puro, o desvio padrão das médias padronizadas. Ou seja, se todos os valores nas populações combinadas fossem convertidos em z scores \"padrão\" (Hays, 1973, p. 250f), usando o desvio padrão intrapopulacional, f é o desvio padrão desses k scores z médios.\n",
    "\n",
    "f pode assumir valores entre zero, quando as médias populacionais são todas iguais (ou os efeitos são todos zero), um número indefinidamente grande quando $\\sigma_m$ aumenta em relação a $\\sigma$."
   ]
  },
  {
   "cell_type": "markdown",
   "metadata": {},
   "source": [
    "O procedimento ideal para definir $f$ em um determinado teste é que o \"investigador, baseando-se em descobertas e teorias anteriores nessa área e em seu próprio julgamento científico, especifique as $k$ médias e $\\sigma$ que ele espera e calcule o $f$ resultante desses valores por meio de fórmulas previamente citadas\". \n",
    "\n",
    "Se essa demanda por especificação for muito forte, ele pode especificar a faixa de médias, d, da fórmula:\n",
    "\n",
    "$$d = \\frac{m_{max}-m_{min}}{\\sigma}$$\n",
    "\n",
    "Onde $m_{max}$ é o maior valor das k médias, $m_{min}$ é o menor valor das k médias e $\\sigma$ padrão previamente utilizado.\n",
    "\n",
    "*Nota: Observe que no caso de k = 2 com (n igual), o $d$ da formula acima torna-se o mesmo $d$ usado como índice ES para o teste t ou (cohen d)*."
   ]
  },
  {
   "cell_type": "code",
   "execution_count": 62,
   "metadata": {},
   "outputs": [
    {
     "name": "stdout",
     "output_type": "stream",
     "text": [
      "Means: [4.8, 11.46, 14.26]\n",
      "Vars: [8.48, 7.13, 7.07]\n"
     ]
    }
   ],
   "source": [
    "from random import choices, randint, seed\n",
    "from numpy import std, mean, var, sqrt, array\n",
    "#seed(1)\n",
    "\n",
    "sample_a = [randint(0, 10) for _ in range(0, 100)]\n",
    "sample_b = [randint(7, 15) for _ in range(0, 100)]\n",
    "sample_c = [randint(10,19) for _ in range(0, 100)]\n",
    "\n",
    "pop_std = std(sample_a + sample_b + sample_c)\n",
    "pop_var = var(sample_a + sample_b + sample_c)\n",
    "\n",
    "mean_a, var_a = mean(sample_a), var(sample_a)\n",
    "mean_b, var_b = mean(sample_b), var(sample_b)\n",
    "mean_c, var_c = mean(sample_c), var(sample_c)\n",
    "\n",
    "means = [mean_a, mean_b, mean_c]\n",
    "vars = [round(r, 2) for r in [var_a, var_b, var_c]]\n",
    "\n",
    "print(f'Means: {means}')\n",
    "print(f'Vars: {vars}')"
   ]
  },
  {
   "cell_type": "code",
   "execution_count": 74,
   "metadata": {},
   "outputs": [
    {
     "data": {
      "text/plain": [
       "(0.6755708302499982, 0.8219311590699054)"
      ]
     },
     "execution_count": 74,
     "metadata": {},
     "output_type": "execute_result"
    }
   ],
   "source": [
    "from statsmodels.stats.oneway import effectsize_oneway, anova_generic\n",
    "\n",
    "# Documentação \n",
    "# Statsmodels\n",
    "# means : array_like\n",
    "#     Mean of samples to be compared\n",
    "# vars_ : FLOAT or array_like\n",
    "#     Residual (within) variance of each sample or pooled\n",
    "#     If ``vars_`` is scalar, then it is interpreted as pooled variance that\n",
    "#     is the same for all samples, ``use_var`` will be ignored.\n",
    "#     Otherwise, the variances are used depending on the ``use_var`` keyword.\n",
    "# nobs : int or array_like\n",
    "#     Number of observations for the samples.\n",
    "#     If nobs is scalar, then it is assumed that all samples have the same\n",
    "#     number ``nobs`` of observation, i.e. a balanced sample case.\n",
    "#     Otherwise, statistics will be weighted corresponding to nobs.\n",
    "#     Only relative sizes are relevant, any proportional change to nobs does\n",
    "#     not change the effect size.\n",
    "# use_var : {\"unequal\", \"equal\", \"bf\"}\n",
    "#     If ``use_var`` is \"unequal\", then the variances can differ across\n",
    "#     samples and the effect size for Welch anova will be computed.\n",
    "# ddof_between : int\n",
    "#     Degrees of freedom correction for the weighted between sum of squares.\n",
    "#     The denominator is ``nobs_total - ddof_between``\n",
    "#     This can be used to match differences across reference literature.\n",
    "\n",
    "\n",
    "cohen_f = effectsize_oneway(\n",
    "        use_var='equal',\n",
    "        means=means,\n",
    "        vars_=pop_var,\n",
    "        nobs=array([100, 100, 100]),\n",
    ")\n",
    "\n",
    "cohen_f, sqrt(cohen_f)"
   ]
  },
  {
   "cell_type": "code",
   "execution_count": 73,
   "metadata": {},
   "outputs": [
    {
     "data": {
      "text/plain": [
       "1.443055905658125"
      ]
     },
     "execution_count": 73,
     "metadata": {},
     "output_type": "execute_result"
    }
   ],
   "source": [
    "# Com a lista de vars 'array_like' não funciona! (Documentação errada) ?\n",
    "sqrt(effectsize_oneway(use_var='equal', means=means, vars_=vars, nobs=array([100, 100, 100])))"
   ]
  },
  {
   "cell_type": "markdown",
   "metadata": {},
   "source": [
    "$$f = \\frac{\\sigma_m}{\\sigma}, ~\\sigma_m = \\sqrt{\\frac{\\sum^{k}_{i=1}{(m_i - m)}^{2}}{k}}$$\n",
    "\n",
    "Implementação da fórmula manualmente."
   ]
  },
  {
   "cell_type": "code",
   "execution_count": 67,
   "metadata": {},
   "outputs": [
    {
     "data": {
      "text/plain": [
       "(0.8219311590699054, 3.967747751838847)"
      ]
     },
     "execution_count": 67,
     "metadata": {},
     "output_type": "execute_result"
    }
   ],
   "source": [
    "m = mean([mean_a, mean_b, mean_c]) # Média das médias ou média da pop\n",
    "k = len(means) # K é o tamanho das K médias*\n",
    "\n",
    "sigma_m = sqrt(sum([(mi - m)**2 for mi in [mean_a, mean_b, mean_c]]) / 3)\n",
    "\n",
    "cohen_f = sigma_m / pop_std\n",
    "\n",
    "cohen_f, sigma_m"
   ]
  },
  {
   "cell_type": "code",
   "execution_count": 49,
   "metadata": {},
   "outputs": [
    {
     "data": {
      "text/plain": [
       "0.952994132103319"
      ]
     },
     "execution_count": 49,
     "metadata": {},
     "output_type": "execute_result"
    }
   ],
   "source": [
    "# \"Standardized Range of the Sample Means\"\n",
    "# Definição por Cohen.\n",
    "\n",
    "d = (max(means) - min(means)) / pop_std\n",
    "\n",
    "cohen_f = d / 2\n",
    "\n",
    "cohen_f"
   ]
  },
  {
   "cell_type": "markdown",
   "metadata": {},
   "source": [
    "##### Tamanho da Amostra"
   ]
  },
  {
   "cell_type": "markdown",
   "metadata": {},
   "source": [
    "Como anteriormente citado, $n$ é a função de $effect~size$, $a$ e $power$. Nesse exemplo, quando o investigador antecipa um certo effect size ou calcúla o mesmo incluindo o alpha e o poder do teste, com esses três parâmetros é possível calcular o tamanho mínimo de uma amostra para as devidas inferências estatísticas.\n",
    "\n",
    "Baseado no livro de cohen, existem tabelas para certos sample sizes baseado no tipo de teste, por exemplo o teste de chi quadrado existem tabelas para o sample size do tipo (teste de contingência e teste de ajuste) para várias definições de alpha, effect size e power.\n",
    "\n",
    "Mas o mais padrão é justamente os devidos cálculos utilizando os três parâmetros anteriormente citados."
   ]
  },
  {
   "cell_type": "code",
   "execution_count": 51,
   "metadata": {},
   "outputs": [],
   "source": [
    "# Classes do statsmodels para os tipos de cálculos de sample size.\n",
    "# Todos esses cálculos utilizam otimizadores do scipy, para mais detalhes consultar \n",
    "# a documentação de cada classe. Adiantando, para calcular o sample size (estimar o mesmo)\n",
    "# então utiliza-se o método solve_power de cada classe instanciada abaixo passando seus devidos parâmetros.\n",
    "\n",
    "from math import ceil\n",
    "from statsmodels.stats.power import TTestPower, TTestIndPower, NormalIndPower, GofChisquarePower, _GofChisquareIndPower, FTestAnovaPower\n",
    "\n",
    "# Docs: Statistical Power calculations for one sample or paired sample t-test.\n",
    "TTestPower();\n",
    "\n",
    "# Docs: Statistical Power calculations for t-test for two independent sample.\n",
    "NormalIndPower();\n",
    "\n",
    "# Docs: Statistical Power calculations for t-test for two independent sample.\n",
    "TTestIndPower();\n",
    "\n",
    "# Docs: Statistical Power calculations for one sample chisquare test.\n",
    "GofChisquarePower();\n",
    "\n",
    "# Docs: Statistical Power calculations for chisquare goodness-of-fit test\n",
    "_GofChisquareIndPower();\n",
    "\n",
    "# Docs: Statistical Power calculations F-test for one factor balanced ANOVA\n",
    "FTestAnovaPower();"
   ]
  },
  {
   "cell_type": "markdown",
   "metadata": {},
   "source": [
    "<hr>"
   ]
  },
  {
   "cell_type": "markdown",
   "metadata": {},
   "source": [
    "**Sample Size para um teste de Médias**"
   ]
  },
  {
   "cell_type": "markdown",
   "metadata": {},
   "source": [
    "Baseado na documentação do statsmodels, \n",
    "\n",
    "1. effect_size: standardized effect size, mean divided by the standard deviation. effect size has to be positive.\n",
    "\n",
    "2. nobs: sample size, number of observations.\n",
    "\n",
    "3. alpha: significance level, e.g. 0.05, is the probability of a type I error, that is wrong rejections if the Null Hypothesis is true.\n",
    "\n",
    "4. power: power of the test, e.g. 0.8, is one minus the probability of a type II error. Power is the probability that the test correctly rejects the Null Hypothesis if the Alternative Hypothesis is true.\n",
    "\n",
    "5. alternative: 'two-sided' (default) or 'one-sided' extra argument to choose whether the power is calculated for a two-sided (default) or one sided test. 'one-sided' assumes we are in the relevant tail."
   ]
  },
  {
   "cell_type": "markdown",
   "metadata": {},
   "source": [
    "Seguindo o exemplo de Cohen em seu livro para uma amostra de n observações, temos a fórmula: $d_3' = \\frac{m - c}{\\sigma}, d = d_31 * \\sqrt{2}$.\n",
    "\n",
    "No livro o mesmo não informa os dados, apenas a métrica $d_3'$ já calculada, e os demais parâmetros também.\n",
    "\n",
    "*\"H0: m = 6 ...... He defines such a trivial difference (i) as one no greater than a departure of .10 of the population mean from 6 (=c), expressed in population standard deviation units. But this .10 value is d3' [formula (2.3.3)], the Case 3 ES measure, not d. To find d, d 3 ' must be multiplied by v'2 [formula (2.3.4)]. The result is d = .10v'2 = .1414. The specifications are:\n",
    "a2 = 0.01, d = 0.1414, power = 0.90.\" ...... sample n = 1490*\".\n",
    "\n",
    "Logo se aplicarmos os mesmos parâmetros a função solver do TTestPower para uma amostra temos o seguinte resultado."
   ]
  },
  {
   "cell_type": "code",
   "execution_count": 41,
   "metadata": {},
   "outputs": [
    {
     "data": {
      "text/plain": [
       "748"
      ]
     },
     "execution_count": 41,
     "metadata": {},
     "output_type": "execute_result"
    }
   ],
   "source": [
    "# Basicamente para a fração do effect size index 'D', é\n",
    "# necessário um sample size de 748 arredondando seguindo a\n",
    "# fórmula do TTestPower para uma amostra com um tipo de teste 'Two Sided'.\n",
    "# Para um teste One-sided deve-se especificar 'larger' ou 'smaller'. Só que\n",
    "# o smaller não funciona \\o/\n",
    "\n",
    "n = TTestPower().solve_power(\n",
    "        effect_size=0.1414, \n",
    "        alternative='2s',\n",
    "        alpha=0.01,\n",
    "        power=0.90\n",
    ")\n",
    "\n",
    "ceil(n)"
   ]
  },
  {
   "cell_type": "markdown",
   "metadata": {},
   "source": [
    "748 amostras, seguindo a tabela e o resultado de cohen na verdade teria quer ser 1490 e não 748 amostras. Utilizando outra função solver agora do TTestIndPower, temos o seguinte resultado sem arredondamento:"
   ]
  },
  {
   "cell_type": "code",
   "execution_count": 43,
   "metadata": {},
   "outputs": [
    {
     "data": {
      "text/plain": [
       "1490.047962358998"
      ]
     },
     "execution_count": 43,
     "metadata": {},
     "output_type": "execute_result"
    }
   ],
   "source": [
    "n = TTestIndPower().solve_power(\n",
    "        effect_size=0.1414, \n",
    "        alternative='2s',\n",
    "        alpha=0.01,\n",
    "        power=0.90 \n",
    ")\n",
    "\n",
    "#ceil(n)\n",
    "n"
   ]
  },
  {
   "cell_type": "markdown",
   "metadata": {},
   "source": [
    "O mesmo resultado do livro de cohen, logo acredito que a TTestPower esteja com algum bug ou não seja realmente oque ela faz dado os resultados certos do solver da classe TTestIndPower.\n",
    "\n",
    "Seguindo agora com o caso 4 \"ONE SAMPLE OF N DIFFERENCES BETWEEN PAIRED OBSERVATIONS\", para mais um exemplo do livro onde o resultado do mesmo foi: 38.8 temos o erro do statsmodels da classe TTestPower."
   ]
  },
  {
   "cell_type": "code",
   "execution_count": 5,
   "metadata": {},
   "outputs": [
    {
     "data": {
      "text/plain": [
       "(20.868399756835696, 38.71683765975481, 37.73263660461913)"
      ]
     },
     "execution_count": 5,
     "metadata": {},
     "output_type": "execute_result"
    }
   ],
   "source": [
    "# Errado dado a documentação e o resultado obtido\n",
    "n0 = TTestPower().solve_power(\n",
    "        effect_size=0.645,\n",
    "        alpha=0.05,\n",
    "        alternative='2s',\n",
    "        power=0.80,\n",
    ")\n",
    "\n",
    "# Certo em relação ao resultado do livro.\n",
    "n1 = TTestIndPower().solve_power(\n",
    "        effect_size=0.645,\n",
    "        alpha=0.05,\n",
    "        alternative='2s',\n",
    "        power=0.80,\n",
    ")\n",
    "\n",
    "# Certo em relação ao resultado do livro.\n",
    "n2 = NormalIndPower().solve_power(\n",
    "        effect_size=0.645,\n",
    "        alpha=0.05,\n",
    "        alternative='2s',\n",
    "        power=0.80, \n",
    ")\n",
    "\n",
    "n0, n1, n2"
   ]
  },
  {
   "cell_type": "markdown",
   "metadata": {},
   "source": [
    "Para mais um exemplo do livro de cohen, baseado no effect size observado para o caso 0 (amostras do mesmo tamanho e sigmas iguais) a amostra necessária é de 64. Temos então com a função do statsmodels solve_power da classe TTestIndPower o seguinte resultado:\n",
    "Porém, no livro ele utiliza 30 observações, so que passando as observações de um grupo da erro o solve power por que ele precisa de \"1\" parâmetro nulo, não entendi também mas seguimos."
   ]
  },
  {
   "cell_type": "code",
   "execution_count": 23,
   "metadata": {},
   "outputs": [
    {
     "name": "stdout",
     "output_type": "stream",
     "text": [
      "Baseando-se em uma expectativa de diferença de: 0.2, temos o total de 393 amostras necessárias para uma classe.\n",
      "Baseando-se em uma expectativa de diferença de: 0.5, temos o total de 64 amostras necessárias para uma classe.\n",
      "Baseando-se em uma expectativa de diferença de: 0.8, temos o total de 26 amostras necessárias para uma classe.\n"
     ]
    }
   ],
   "source": [
    "for d in [0.20, 0.50, 0.80]:\n",
    "\n",
    "    n = TTestIndPower().solve_power(\n",
    "            effect_size=d,\n",
    "            alternative='2s',\n",
    "            power=0.80,\n",
    "            alpha=0.05,\n",
    "            #nobs1=30 # Por que não posso passar o número de observações ?\n",
    "    )\n",
    "\n",
    "    print(f\"Baseando-se em uma expectativa de diferença de: {d}, temos o total de {round(n)} amostras necessárias para uma classe.\")"
   ]
  },
  {
   "cell_type": "markdown",
   "metadata": {},
   "source": [
    "<hr>"
   ]
  },
  {
   "cell_type": "markdown",
   "metadata": {},
   "source": [
    "**Sample Size para um teste de Proporções**"
   ]
  },
  {
   "cell_type": "markdown",
   "metadata": {},
   "source": [
    "Para o teste de proporção entre duas amostras idependentes, utiliza-se o effect size do arco seno."
   ]
  },
  {
   "cell_type": "code",
   "execution_count": 26,
   "metadata": {},
   "outputs": [
    {
     "data": {
      "text/plain": [
       "4719.4740575998185"
      ]
     },
     "execution_count": 26,
     "metadata": {},
     "output_type": "execute_result"
    }
   ],
   "source": [
    "from statsmodels.stats.proportion import proportion_effectsize\n",
    "\n",
    "q = proportion_effectsize(0.15, 0.13)\n",
    "\n",
    "# São necessárias 4719 amostras de ambas as classes medidas.\n",
    "NormalIndPower().solve_power(\n",
    "    alternative='two-sided',\n",
    "    effect_size=q,\n",
    "    alpha=0.05,\n",
    "    power=0.80,\n",
    ")"
   ]
  },
  {
   "cell_type": "markdown",
   "metadata": {},
   "source": [
    "Seguindo um exemplo do livro, a amostras necessárias dados os parâmetros abaixo são 177 seguindo a tabela."
   ]
  },
  {
   "cell_type": "code",
   "execution_count": 38,
   "metadata": {},
   "outputs": [
    {
     "data": {
      "text/plain": [
       "174.41912242947043"
      ]
     },
     "execution_count": 38,
     "metadata": {},
     "output_type": "execute_result"
    }
   ],
   "source": [
    "NormalIndPower().solve_power(\n",
    "    alternative='two-sided',\n",
    "    effect_size=0.30,\n",
    "    alpha=0.05,\n",
    "    power=0.80\n",
    ")"
   ]
  },
  {
   "cell_type": "markdown",
   "metadata": {},
   "source": [
    "Para mais um exemplo do livro com os respectivos resultados: *\"q = .10, .30, .50 are found to be 1804, 203, and 75, respectively.\"*."
   ]
  },
  {
   "cell_type": "code",
   "execution_count": 50,
   "metadata": {},
   "outputs": [
    {
     "name": "stdout",
     "output_type": "stream",
     "text": [
      "Total de 1801 Amostras (TTestIndPower) para uma classe medida das proporções com um effect size de: 0.1.\n",
      "Total de 1802 Amostras (NormalIndPower) para uma classe medida das proporções com um effect size de: 0.1.\n",
      "Total de 200 Amostras (TTestIndPower) para uma classe medida das proporções com um effect size de: 0.3.\n",
      "Total de 201 Amostras (NormalIndPower) para uma classe medida das proporções com um effect size de: 0.3.\n",
      "Total de 72 Amostras (TTestIndPower) para uma classe medida das proporções com um effect size de: 0.5.\n",
      "Total de 73 Amostras (NormalIndPower) para uma classe medida das proporções com um effect size de: 0.5.\n"
     ]
    }
   ],
   "source": [
    "for q in [0.10, 0.30, 0.50]:\n",
    "    n0=NormalIndPower().solve_power(\n",
    "        alternative='larger',\n",
    "        effect_size=q,\n",
    "        alpha=0.01,\n",
    "        power=0.75\n",
    "    )\n",
    "\n",
    "    n1=TTestIndPower().solve_power(\n",
    "        alternative='larger',\n",
    "        effect_size=q,\n",
    "        alpha=0.01,\n",
    "        power=0.75\n",
    "    )\n",
    "\n",
    "    print(f'Total de {round(n0)} Amostras (TTestIndPower) para uma classe medida das proporções com um effect size de: {q}.')\n",
    "    print(f'Total de {round(n1)} Amostras (NormalIndPower) para uma classe medida das proporções com um effect size de: {q}.')"
   ]
  },
  {
   "cell_type": "markdown",
   "metadata": {},
   "source": [
    "<hr>"
   ]
  },
  {
   "cell_type": "markdown",
   "metadata": {},
   "source": [
    "**Sample Size para um teste de Chi Quadrado**"
   ]
  },
  {
   "cell_type": "markdown",
   "metadata": {},
   "source": [
    "Para o teste de amostras para um qui-quadrado é necessário um parâmetro extra no teste de Idependência chamado de graus de liberdade que nada mais é a quantidade de variações menos um, existe uma fórmula para isso também.\n",
    "\n",
    "Para os dois parâmetros novos:\n",
    "\n",
    "- u: Graus de Liberdade.\n",
    "- m: Células / Intervalos da distribuição.\n",
    "    - \"Each of the rk = m cells has a null-hypothetical\".\n",
    "    - Tabela (3 x 3) u = (3 - 1)(3 - 1) = 4, m = 9."
   ]
  },
  {
   "cell_type": "markdown",
   "metadata": {},
   "source": [
    "Sample Size para o teste de Goodness of Fit."
   ]
  },
  {
   "cell_type": "code",
   "execution_count": 52,
   "metadata": {},
   "outputs": [],
   "source": [
    "# Docs: Statistical Power calculations for chisquare goodness-of-fit test\n",
    "_GofChisquareIndPower();"
   ]
  },
  {
   "cell_type": "markdown",
   "metadata": {},
   "source": [
    "Para o exemplo do livro, a função do statsmodels não \"converge\" para um tamanho de amostra utilizando o teste para qui quadrado baseado na docs."
   ]
  },
  {
   "cell_type": "code",
   "execution_count": 59,
   "metadata": {},
   "outputs": [
    {
     "data": {
      "text/plain": [
       "array([10.])"
      ]
     },
     "execution_count": 59,
     "metadata": {},
     "output_type": "execute_result"
    }
   ],
   "source": [
    "_GofChisquareIndPower().solve_power(\n",
    "    effect_size=0.20,\n",
    "    alpha=0.10,\n",
    "    power=0.99,\n",
    ")"
   ]
  },
  {
   "cell_type": "markdown",
   "metadata": {},
   "source": [
    "Utilizando o outro método da classe GofChisquarePower dados esses parâmetros: \n",
    "\n",
    "a = .10, u = 6, W = .20, power = .99, espera-se um N de 616, porém, utilizando o graus de liberdade igual a 6 o resultado é diferente e utilizando um grau a mais o resultado aproxima-se cada vez mais do ideal baseando-se no livro de cohen."
   ]
  },
  {
   "cell_type": "code",
   "execution_count": 65,
   "metadata": {},
   "outputs": [
    {
     "data": {
      "text/plain": [
       "586.0644735272941"
      ]
     },
     "execution_count": 65,
     "metadata": {},
     "output_type": "execute_result"
    }
   ],
   "source": [
    "# Amostra de 586 ?\n",
    "GofChisquarePower().solve_power(effect_size=0.20, alpha=0.10, power=0.99, n_bins=6)"
   ]
  },
  {
   "cell_type": "code",
   "execution_count": 106,
   "metadata": {},
   "outputs": [
    {
     "data": {
      "text/plain": [
       "616.2135834525538"
      ]
     },
     "execution_count": 106,
     "metadata": {},
     "output_type": "execute_result"
    }
   ],
   "source": [
    "# Amostra mais próxima dado o mesmo resultado do livro\n",
    "# Basta adicionar +1 no graus de liberdade... (Pq, não sei)\n",
    "# Mas é o resultado mais próximo dado o livro.\n",
    "\n",
    "u = 6 + 1\n",
    "\n",
    "GofChisquarePower().solve_power(\n",
    "    effect_size=0.20,\n",
    "    alpha=0.10,\n",
    "    power=0.99,\n",
    "    n_bins=u\n",
    ")"
   ]
  },
  {
   "cell_type": "markdown",
   "metadata": {},
   "source": [
    "Para mais um exemplo, considere os seguintes parâmetros: a = .05, u = 3, w = .289, power = .80.\n",
    "\n",
    "Onde m = 4 e u = m - 1.\n",
    "\n",
    "Espera-se uma amostra de tamanho 130.5."
   ]
  },
  {
   "cell_type": "code",
   "execution_count": 84,
   "metadata": {},
   "outputs": [
    {
     "name": "stdout",
     "output_type": "stream",
     "text": [
      "N_Bins: 4, Tamanho da amostra: 130.53679065103069\n",
      "N_Bins: 3, Tamanho da amostra: 115.35648318359834\n"
     ]
    }
   ],
   "source": [
    "alpha, w, power = 0.05, 0.289, 0.80\n",
    "m, u = 4, 3\n",
    "\n",
    "for bin in [m, u]: \n",
    "    n = GofChisquarePower().solve_power(\n",
    "        effect_size=w, alpha=alpha, power=power, n_bins=bin\n",
    "    )\n",
    "\n",
    "    print(f'N_Bins: {bin}, Tamanho da amostra: {n}')\n",
    "\n",
    "# Tamanhos diferentes na tabela de contingência baseado no numero de \"bins\"."
   ]
  },
  {
   "cell_type": "markdown",
   "metadata": {},
   "source": [
    "Sample Size para o Teste de Idependência."
   ]
  },
  {
   "cell_type": "code",
   "execution_count": 96,
   "metadata": {},
   "outputs": [],
   "source": [
    "# Docs: Statistical Power calculations for one sample chisquare test.\n",
    "GofChisquarePower();"
   ]
  },
  {
   "cell_type": "markdown",
   "metadata": {},
   "source": [
    "Dado os seguintes parâmetros:\n",
    "\n",
    "r = 5, k = 6, u = (5- 1)(6- 1) = 20\n",
    "\n",
    "a = .01, u = 20, w = .10, power = .80, o total de amostras esperados é: N = 2816."
   ]
  },
  {
   "cell_type": "code",
   "execution_count": 104,
   "metadata": {},
   "outputs": [
    {
     "data": {
      "text/plain": [
       "2816.2216440749603"
      ]
     },
     "execution_count": 104,
     "metadata": {},
     "output_type": "execute_result"
    }
   ],
   "source": [
    "# O mais um na fórmula é para o verdadeiro valor dado o livro de Cohen\n",
    "u = (5 - 1) * (6 - 1) + 1\n",
    "\n",
    "GofChisquarePower().solve_power(\n",
    "    effect_size=0.10, \n",
    "    alpha=0.01,\n",
    "    power=.80,\n",
    "    n_bins=u\n",
    ")"
   ]
  },
  {
   "cell_type": "markdown",
   "metadata": {},
   "source": [
    "Dado uma tabela onde as linhas representam o gênero e a coluna representa as preferencias politicas, temos uma tabela similar a:\n",
    "(masculino, feminino) para as linhas e (democratas, republicanos e idependentes) para as colunas, logo ( 2 x 3 ). obtendo o u com a fórmula ( u = (r - 1) * (k - 1) = 2 ) e os demais parâmetros:\n",
    "\n",
    "a = .01, u = 2, w = .346, power = .99. O tamanho de amostra deve se aproximas de: 229."
   ]
  },
  {
   "cell_type": "code",
   "execution_count": 112,
   "metadata": {},
   "outputs": [
    {
     "data": {
      "text/plain": [
       "228.99625510575436"
      ]
     },
     "execution_count": 112,
     "metadata": {},
     "output_type": "execute_result"
    }
   ],
   "source": [
    "a, w, p = 0.01, .346, .99\n",
    "\n",
    "# +1 Para a correção*\n",
    "u = ((2-1) * (3-1)) + 1\n",
    "\n",
    "GofChisquarePower().solve_power(effect_size=w, alpha=a, power=p, n_bins=u)"
   ]
  },
  {
   "cell_type": "code",
   "execution_count": 113,
   "metadata": {},
   "outputs": [
    {
     "data": {
      "text/plain": [
       "128.99892757921214"
      ]
     },
     "execution_count": 113,
     "metadata": {},
     "output_type": "execute_result"
    }
   ],
   "source": [
    "GofChisquarePower().solve_power(effect_size=w, alpha=a+0.04, power=p-0.04, n_bins=u)"
   ]
  },
  {
   "cell_type": "code",
   "execution_count": 115,
   "metadata": {},
   "outputs": [
    {
     "data": {
      "image/png": "[encoded data removed]",
      "text/plain": [
       "<IPython.core.display.Image object>"
      ]
     },
     "execution_count": 115,
     "metadata": {},
     "output_type": "execute_result"
    }
   ],
   "source": [
    "from IPython.display import Image\n",
    "Image('img/chisq.png')"
   ]
  },
  {
   "cell_type": "markdown",
   "metadata": {},
   "source": [
    "<hr>"
   ]
  },
  {
   "cell_type": "markdown",
   "metadata": {},
   "source": [
    "**Sample Size para um teste Anova**"
   ]
  },
  {
   "cell_type": "markdown",
   "metadata": {},
   "source": [
    "Similarmente a todos os demais testes, existe a tabela para obter o sample size baseado nos parâmetros do teste.\n",
    "\n",
    "Para esse teste o único parâmetro extra é, de acordo com o livro, o \"graus de liberdade do numerador\", que é dado pela seguinte fórmuleta: u = k - 1."
   ]
  },
  {
   "cell_type": "markdown",
   "metadata": {},
   "source": [
    "Dado os seguintes parâmetros para um teste de variância, qual é o tamanho da amostra esperado é 36.\n",
    "\n",
    "- a = 0.05\n",
    "- u = k - 1 = 3\n",
    "- f = 0.28\n",
    "- power = 0.80."
   ]
  },
  {
   "cell_type": "code",
   "execution_count": 183,
   "metadata": {},
   "outputs": [
    {
     "data": {
      "text/plain": [
       "37.57365399761134"
      ]
     },
     "execution_count": 183,
     "metadata": {},
     "output_type": "execute_result"
    }
   ],
   "source": [
    "from numpy import sqrt\n",
    "# Não é necessário o sqrt dado os resultados do livro ***\n",
    "# Porem se não colocar a raiz da um sample size de +120 ?-?\n",
    "f = sqrt(0.28)\n",
    "\n",
    "FTestAnovaPower().solve_power(\n",
    "    effect_size=f,\n",
    "    alpha=0.05,\n",
    "    power=0.80,\n",
    "    k_groups=3,\n",
    ")"
   ]
  },
  {
   "cell_type": "markdown",
   "metadata": {},
   "source": [
    "Mais um exemplo do livro de cohen com os seguintes parâmetros abaixo era necessário observar uma quantidade de amostras de respectivos tamanhos (147, 95, 66, e 49.)\n",
    "\n",
    "- k = 3 Amostras de tamanho igual.\n",
    "- a = 0.01.\n",
    "- u = k - 1 = 2.\n",
    "- p = 0.90\n",
    "- f = { 0.20, 0.25, 0.30, 0.35 } "
   ]
  },
  {
   "cell_type": "code",
   "execution_count": 181,
   "metadata": {},
   "outputs": [
    {
     "name": "stdout",
     "output_type": "stream",
     "text": [
      "Fs: 0.20, Amostras: 376\n",
      "Fs: 0.25, Amostras: 242\n",
      "Fs: 0.30, Amostras: 169\n",
      "Fs: 0.35, Amostras: 125\n"
     ]
    }
   ],
   "source": [
    "# No livro os tamanhos estão diferentes...\n",
    "# Logo é necessário verificar por que para o teste de anova\n",
    "# dado todos os parâmetros o mesmo esta retornando errado os sample size.\n",
    "\n",
    "for f in [0.20, 0.25, 0.30, 0.35]:\n",
    "    #fs = sqrt(f) \n",
    "\n",
    "    n=FTestAnovaPower().solve_power(\n",
    "        effect_size=f,\n",
    "        alpha=0.01,\n",
    "        power=0.90,\n",
    "        k_groups=2\n",
    "    )\n",
    "\n",
    "    print(f'Fs: {f:.2f}, Amostras: {ceil(n)}')"
   ]
  },
  {
   "cell_type": "markdown",
   "metadata": {},
   "source": [
    "Acredito que para o Anova seja necessário revisar, pois nenhum dos resultados batem previamente ao do livro de cohen, talvez alguma especificação do próprio anova do statsmodels seja necessária."
   ]
  },
  {
   "cell_type": "markdown",
   "metadata": {},
   "source": [
    "**Referências**\n",
    "\n",
    "0. https://towardsdatascience.com/hypothesis-testing-with-python-step-by-step-hands-on-tutorial-with-practical-examples-e805975ea96e\n",
    "1. getreditus.com/for-saas/blog/how-to-optimize-your-b2b-marketing-strategy\n",
    "2. https://www.fromthegenesis.com/difference-between-one-tail-test-and-two-tail-test/\n",
    "3. https://ai.stanford.edu/~ronnyk/2009controlledExperimentsOnTheWebSurvey.pdf\n",
    "4. https://towardsdatascience.com/a-definitive-guide-to-effect-size-9bc93f00db86\n",
    "5. https://online.stat.psu.edu/stat504/lesson/11/11.2/11.2.2\n",
    "6. https://www.psychometrica.de/effect_size.html\n",
    "7. https://www.utstat.toronto.edu/~brunner/oldclass/378f16/readings/CohenPower.pdf"
   ]
  }
 ],
 "metadata": {
  "kernelspec": {
   "display_name": "Python 3.10.6 ('ab-test': venv)",
   "language": "python",
   "name": "python3"
  },
  "language_info": {
   "codemirror_mode": {
    "name": "ipython",
    "version": 3
   },
   "file_extension": ".py",
   "mimetype": "text/x-python",
   "name": "python",
   "nbconvert_exporter": "python",
   "pygments_lexer": "ipython3",
   "version": "3.10.6"
  },
  "orig_nbformat": 4,
  "vscode": {
   "interpreter": {
    "hash": "a9d96985b44aad8485d20dfd444567b4d7a87349c0292cd44132eacaa5c3b639"
   }
  }
 },
 "nbformat": 4,
 "nbformat_minor": 2
}
